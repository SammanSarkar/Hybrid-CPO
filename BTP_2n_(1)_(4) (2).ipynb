{
  "cells": [
    {
      "cell_type": "code",
      "execution_count": 1,
      "metadata": {
        "colab": {
          "base_uri": "https://localhost:8080/"
        },
        "id": "ped8baHt1L5a",
        "outputId": "e49f250e-56de-437c-b19f-6d64c7f3a2fb"
      },
      "outputs": [
        {
          "name": "stdout",
          "output_type": "stream",
          "text": [
            "Collecting torchinfo\n",
            "  Downloading torchinfo-1.8.0-py3-none-any.whl.metadata (21 kB)\n",
            "Downloading torchinfo-1.8.0-py3-none-any.whl (23 kB)\n",
            "Installing collected packages: torchinfo\n",
            "Successfully installed torchinfo-1.8.0\n",
            "Using device: cuda\n"
          ]
        }
      ],
      "source": [
        "# Install required packages\n",
        "!pip install torchinfo\n",
        "\n",
        "# Import libraries\n",
        "import os\n",
        "import numpy as np\n",
        "import pandas as pd\n",
        "import matplotlib.pyplot as plt\n",
        "from sklearn.preprocessing import MinMaxScaler\n",
        "from sklearn.metrics import mean_squared_error, mean_absolute_error, r2_score\n",
        "import torch\n",
        "import torch.nn as nn\n",
        "import torch.optim as optim\n",
        "from torch.utils.data import DataLoader, TensorDataset\n",
        "from tqdm import tqdm\n",
        "from IPython.display import clear_output\n",
        "import datetime\n",
        "\n",
        "# Set random seeds for reproducibility\n",
        "torch.manual_seed(42)\n",
        "np.random.seed(42)\n",
        "\n",
        "# Device configuration (use T4 GPU if available)\n",
        "device = torch.device('cuda' if torch.cuda.is_available() else 'cpu')\n",
        "print(f\"Using device: {device}\")"
      ]
    },
    {
      "cell_type": "code",
      "execution_count": 2,
      "metadata": {
        "id": "oOT6msuX77tG"
      },
      "outputs": [],
      "source": [
        "def load_and_preprocess_data(pv_file='pv_power.csv', weather_file='weather.csv', seq_length=24):\n",
        "    \"\"\"Load and preprocess solar power and weather data with per-feature normalization.\"\"\"\n",
        "    # Load CSV files\n",
        "    pv_data = pd.read_csv(pv_file)\n",
        "    weather_data = pd.read_csv(weather_file)\n",
        "\n",
        "    # Rename columns for consistency\n",
        "    pv_data = pv_data.rename(columns={'DATE_TIME': 'timestamp', 'AC_POWER': 'power',\n",
        "                                      'DC_POWER': 'dc_power', 'DAILY_YIELD': 'daily_yield',\n",
        "                                      'TOTAL_YIELD': 'total_yield'})\n",
        "    weather_data = weather_data.rename(columns={'DATE_TIME': 'timestamp', 'AMBIENT_TEMPERATURE': 'temp',\n",
        "                                                'IRRADIATION': 'irradiation', 'MODULE_TEMPERATURE': 'module_temp'})\n",
        "\n",
        "    # Convert timestamp to datetime\n",
        "    pv_data['timestamp'] = pd.to_datetime(pv_data['timestamp'])\n",
        "    weather_data['timestamp'] = pd.to_datetime(weather_data['timestamp'])\n",
        "\n",
        "    # Merge on timestamp\n",
        "    data = pd.merge(pv_data[['timestamp', 'power', 'dc_power', 'daily_yield', 'total_yield']],\n",
        "                    weather_data[['timestamp', 'temp', 'irradiation', 'module_temp']],\n",
        "                    on='timestamp', how='inner')\n",
        "\n",
        "    if data.empty:\n",
        "        raise ValueError(\"Merge resulted in empty DataFrame. Check timestamp overlap in CSV files.\")\n",
        "\n",
        "    # Resample to hourly\n",
        "    data = data.set_index('timestamp').resample('1H').mean().interpolate(method='linear').reset_index()\n",
        "\n",
        "    # Handle missing values\n",
        "    data = data.dropna()\n",
        "\n",
        "    # Add temporal and derived features\n",
        "    data['hour'] = data['timestamp'].dt.hour\n",
        "    data['temp_diff'] = data['module_temp'] - data['temp']\n",
        "    data['yield_rate'] = data['daily_yield'] / (data['irradiation'] + 1e-10)  # Avoid division by zero\n",
        "\n",
        "    # Feature selection\n",
        "    features = ['temp', 'irradiation', 'module_temp', 'dc_power', 'power', 'daily_yield', 'total_yield',\n",
        "                'hour', 'temp_diff', 'yield_rate']\n",
        "    data = data[features]\n",
        "\n",
        "    # Normalize each feature independently\n",
        "    scalers = {}\n",
        "    scaled_data = np.zeros_like(data.values)\n",
        "    for i, feature in enumerate(features):\n",
        "        scalers[feature] = MinMaxScaler()\n",
        "        scaled_data[:, i] = scalers[feature].fit_transform(data[[feature]].values).flatten()\n",
        "\n",
        "    # Create sequences with augmentation\n",
        "    X, y = [], []\n",
        "    for i in range(len(scaled_data) - seq_length):\n",
        "        seq = scaled_data[i:i + seq_length].copy()\n",
        "        # Add small noise for robustness (only during training)\n",
        "        if i < int(0.6 * (len(scaled_data) - seq_length)):  # Train set only\n",
        "            noise = np.random.normal(0, 0.01, seq.shape)\n",
        "            seq += noise\n",
        "            seq = np.clip(seq, 0, 1)  # Keep within [0, 1]\n",
        "        X.append(seq)\n",
        "        y.append(scaled_data[i + seq_length, features.index('power')])  # Target is next hour's power\n",
        "\n",
        "    X = np.array(X)\n",
        "    y = np.array(y)\n",
        "\n",
        "    # Split data (60% train, 20% val, 20% test)\n",
        "    train_size = int(0.6 * len(X))\n",
        "    val_size = int(0.20 * len(X))\n",
        "    X_train, X_val, X_test = X[:train_size], X[train_size:train_size + val_size], X[train_size + val_size:]\n",
        "    y_train, y_val, y_test = y[:train_size], y[train_size:train_size + val_size], y[train_size + val_size:]\n",
        "\n",
        "    # Convert to PyTorch tensors\n",
        "    X_train = torch.tensor(X_train, dtype=torch.float32)\n",
        "    y_train = torch.tensor(y_train, dtype=torch.float32).unsqueeze(-1)\n",
        "    X_val = torch.tensor(X_val, dtype=torch.float32)\n",
        "    y_val = torch.tensor(y_val, dtype=torch.float32).unsqueeze(-1)\n",
        "    X_test = torch.tensor(X_test, dtype=torch.float32)\n",
        "    y_test = torch.tensor(y_test, dtype=torch.float32).unsqueeze(-1)\n",
        "\n",
        "    # Create DataLoaders\n",
        "    batch_size = 32\n",
        "    train_dataset = TensorDataset(X_train, y_train)\n",
        "    val_dataset = TensorDataset(X_val, y_val)\n",
        "    test_dataset = TensorDataset(X_test, y_test)\n",
        "\n",
        "    train_loader = DataLoader(train_dataset, batch_size=batch_size, shuffle=True)\n",
        "    val_loader = DataLoader(val_dataset, batch_size=batch_size, shuffle=False)\n",
        "    test_loader = DataLoader(test_dataset, batch_size=batch_size, shuffle=False)\n",
        "\n",
        "    return train_loader, val_loader, test_loader, scalers, len(features)"
      ]
    },
    {
      "cell_type": "code",
      "execution_count": 3,
      "metadata": {
        "colab": {
          "base_uri": "https://localhost:8080/"
        },
        "id": "BYpXf3AB7_bQ",
        "outputId": "005287a0-e765-405a-f436-8773bcc75441"
      },
      "outputs": [
        {
          "name": "stdout",
          "output_type": "stream",
          "text": [
            "Number of features: 10\n"
          ]
        },
        {
          "name": "stderr",
          "output_type": "stream",
          "text": [
            "<ipython-input-2-6a4047475b55>:15: UserWarning: Parsing dates in %d-%m-%Y %H:%M format when dayfirst=False (the default) was specified. Pass `dayfirst=True` or specify a format to silence this warning.\n",
            "  pv_data['timestamp'] = pd.to_datetime(pv_data['timestamp'])\n",
            "<ipython-input-2-6a4047475b55>:27: FutureWarning: 'H' is deprecated and will be removed in a future version, please use 'h' instead.\n",
            "  data = data.set_index('timestamp').resample('1H').mean().interpolate(method='linear').reset_index()\n"
          ]
        }
      ],
      "source": [
        "# Load data (assumes pv_power.csv and weather.csv are uploaded)\n",
        "train_loader, val_loader, test_loader, scaler, num_features = load_and_preprocess_data()\n",
        "print(f\"Number of features: {num_features}\")"
      ]
    },
    {
      "cell_type": "code",
      "execution_count": 4,
      "metadata": {
        "colab": {
          "base_uri": "https://localhost:8080/"
        },
        "id": "EJZHkwee8BGK",
        "outputId": "7940b984-6060-4667-e41b-2dc526462dff"
      },
      "outputs": [
        {
          "name": "stdout",
          "output_type": "stream",
          "text": [
            "Model instantiated successfully: CPOBiGRUAttention(\n",
            "  (bigru): GRU(3, 32, num_layers=2, batch_first=True, bidirectional=True)\n",
            "  (ln): LayerNorm((64,), eps=1e-05, elementwise_affine=True)\n",
            "  (attention): MultiheadAttention(\n",
            "    (out_proj): NonDynamicallyQuantizableLinear(in_features=64, out_features=64, bias=True)\n",
            "  )\n",
            "  (fc1): Linear(in_features=64, out_features=32, bias=True)\n",
            "  (fc2): Linear(in_features=32, out_features=64, bias=True)\n",
            "  (fc3): Linear(in_features=64, out_features=1, bias=True)\n",
            "  (dropout): Dropout(p=0.2, inplace=False)\n",
            "  (relu): ReLU()\n",
            ")\n"
          ]
        }
      ],
      "source": [
        "class CPOBiGRUAttention(nn.Module):\n",
        "    \"\"\"Hybrid BiGRU-MultiHeadAttention model for PV power forecasting.\"\"\"\n",
        "    def __init__(self, num_features, gru_units, num_heads, dropout_rate):\n",
        "        super(CPOBiGRUAttention, self).__init__()\n",
        "        self.bigru = nn.GRU(num_features, gru_units, num_layers=2, bidirectional=True, batch_first=True)\n",
        "        self.ln = nn.LayerNorm(gru_units * 2)\n",
        "        self.attention = nn.MultiheadAttention(embed_dim=gru_units * 2, num_heads=num_heads, batch_first=True)\n",
        "        self.fc1 = nn.Linear(gru_units * 2, gru_units)\n",
        "        self.fc2 = nn.Linear(gru_units, 64)\n",
        "        self.fc3 = nn.Linear(64, 1)\n",
        "        self.dropout = nn.Dropout(dropout_rate)\n",
        "        self.relu = nn.ReLU()\n",
        "\n",
        "    def forward(self, x):\n",
        "        x, _ = self.bigru(x)  # (batch_size, seq_length, 2 * gru_units)\n",
        "        x = self.ln(x)\n",
        "        attn_output, _ = self.attention(x, x, x)\n",
        "        x = attn_output[:, -1, :]  # (batch_size, 2 * gru_units)\n",
        "        x = self.dropout(self.relu(self.fc1(x)))\n",
        "        x = self.dropout(self.relu(self.fc2(x)))\n",
        "        x = self.fc3(x)  # (batch_size, 1)\n",
        "        return x\n",
        "\n",
        "# Test model instantiation\n",
        "test_model = CPOBiGRUAttention(num_features=3, gru_units=32, num_heads=2, dropout_rate=0.2)\n",
        "print(\"Model instantiated successfully:\", test_model)"
      ]
    },
    {
      "cell_type": "code",
      "execution_count": 5,
      "metadata": {
        "colab": {
          "base_uri": "https://localhost:8080/",
          "height": 711
        },
        "id": "UUMhocl48E9k",
        "outputId": "88cd6134-7295-428d-b51b-4bc2fff73ee2"
      },
      "outputs": [
        {
          "name": "stdout",
          "output_type": "stream",
          "text": [
            "Best parameters found:\n",
            "GRU Units: 224\n",
            "Number of Attention Heads: 2\n",
            "Dropout Rate: 0.1431\n",
            "Learning Rate: 0.000221\n",
            "Best Validation Loss: 0.005637\n"
          ]
        },
        {
          "data": {
            "image/png": "[encoded data removed]",
            "text/plain": [
              "<Figure size 1000x600 with 1 Axes>"
            ]
          },
          "metadata": {},
          "output_type": "display_data"
        }
      ],
      "source": [
        "import numpy as np\n",
        "import matplotlib.pyplot as plt\n",
        "from tqdm import tqdm\n",
        "import torch\n",
        "import torch.nn as nn\n",
        "import torch.optim as optim\n",
        "from IPython.display import clear_output\n",
        "import pandas as pd\n",
        "import os\n",
        "import datetime\n",
        "from sklearn.metrics import mean_squared_error, mean_absolute_error, r2_score\n",
        "\n",
        "class CPOBiGRUAttention(nn.Module):\n",
        "    \"\"\"Hybrid BiGRU-MultiHeadAttention model for PV power forecasting.\"\"\"\n",
        "    def __init__(self, num_features, gru_units, num_heads, dropout_rate):\n",
        "        super(CPOBiGRUAttention, self).__init__()\n",
        "        self.bigru = nn.GRU(num_features, gru_units, num_layers=2, bidirectional=True, batch_first=True)\n",
        "        self.ln = nn.LayerNorm(gru_units * 2)\n",
        "        self.attention = nn.MultiheadAttention(embed_dim=gru_units * 2, num_heads=num_heads, batch_first=True)\n",
        "        self.fc1 = nn.Linear(gru_units * 2, gru_units)\n",
        "        self.fc2 = nn.Linear(gru_units, 64)\n",
        "        self.fc3 = nn.Linear(64, 1)\n",
        "        self.dropout = nn.Dropout(dropout_rate)\n",
        "        self.relu = nn.ReLU()\n",
        "\n",
        "    def forward(self, x):\n",
        "        x, _ = self.bigru(x)  # (batch_size, seq_length, 2 * gru_units)\n",
        "        x = self.ln(x)\n",
        "        attn_output, _ = self.attention(x, x, x)\n",
        "        x = attn_output[:, -1, :]  # (batch_size, 2 * gru_units)\n",
        "        x = self.dropout(self.relu(self.fc1(x)))\n",
        "        x = self.dropout(self.relu(self.fc2(x)))\n",
        "        x = self.fc3(x)  # (batch_size, 1)\n",
        "        return x\n",
        "\n",
        "def initialization(SearchAgents_no, dim, ub, lb):\n",
        "    \"\"\"Initialize positions with improved distribution across parameter space\"\"\"\n",
        "    Positions = np.zeros((SearchAgents_no, dim))\n",
        "\n",
        "    # Use Latin Hypercube Sampling for better coverage of search space\n",
        "    for i in range(dim):\n",
        "        # Create evenly spaced segments\n",
        "        segments = np.linspace(0, 1, SearchAgents_no + 1)\n",
        "        points = np.random.uniform(segments[:-1], segments[1:])\n",
        "        np.random.shuffle(points)  # Shuffle to avoid correlation\n",
        "        # Scale to parameter range\n",
        "        Positions[:, i] = lb[i] + points * (ub[i] - lb[i])\n",
        "\n",
        "    # Ensure GRU units are integers\n",
        "    Positions[:, 0] = np.round(Positions[:, 0])\n",
        "\n",
        "    # Adjust num_heads for compatibility with GRU units\n",
        "    for i in range(SearchAgents_no):\n",
        "        Positions[i, 1] = adjust_gru_heads(Positions[i, 0], Positions[i, 1], lb[1], ub[1])\n",
        "\n",
        "    return Positions\n",
        "\n",
        "def adjust_gru_heads(gru_units, num_heads, lb_heads, ub_heads):\n",
        "    \"\"\"Find valid number of attention heads for given GRU units\"\"\"\n",
        "    gru_units = int(round(gru_units))\n",
        "    embed_dim = 2 * gru_units  # Bidirectional GRU output dimension\n",
        "\n",
        "    # Find all valid heads within bounds\n",
        "    valid_heads = [h for h in range(int(lb_heads), int(ub_heads) + 1)\n",
        "                  if h > 0 and embed_dim % h == 0]\n",
        "\n",
        "    # If no valid heads found, adjust gru_units slightly to find valid combinations\n",
        "    if not valid_heads:\n",
        "        # Try neighboring GRU unit values\n",
        "        for offset in range(1, 10):\n",
        "            for direction in [1, -1]:\n",
        "                new_gru = gru_units + direction * offset\n",
        "                new_embed_dim = 2 * new_gru\n",
        "\n",
        "                # Check if this creates valid head options\n",
        "                for h in range(int(lb_heads), int(ub_heads) + 1):\n",
        "                    if h > 0 and new_embed_dim % h == 0:\n",
        "                        return h\n",
        "\n",
        "        # Fallback to a safe value\n",
        "        return max(int(lb_heads), 2)\n",
        "\n",
        "    # Choose head value closest to the requested value\n",
        "    return valid_heads[np.argmin(np.abs(np.array(valid_heads) - num_heads))]\n",
        "\n",
        "def CPO(Pop_size, Tmax, lb, ub, dim, fobj):\n",
        "    \"\"\"Improved Crested Porcupine Optimization with adaptive parameters\"\"\"\n",
        "    Conv_curve = np.zeros(Tmax)\n",
        "    ub = np.array(ub)\n",
        "    lb = np.array(lb)\n",
        "\n",
        "    # Initialize population\n",
        "    X = initialization(Pop_size, dim, ub, lb)\n",
        "\n",
        "    # Initialize best solution tracking\n",
        "    best_sols = []  # Track best solutions over time\n",
        "    stall_counter = 0\n",
        "    last_best_fit = float('inf')\n",
        "\n",
        "    # Evaluate initial fitness (with more robust evaluation)\n",
        "    fitness = np.array([fobj_with_retry(X[i, :]) for i in range(Pop_size)])\n",
        "    fitness = np.nan_to_num(fitness, nan=np.inf)\n",
        "\n",
        "    # Track global best\n",
        "    Gb_idx = np.argmin(fitness)\n",
        "    Gb_Fit = fitness[Gb_idx]\n",
        "    Gb_Sol = X[Gb_idx, :].copy()\n",
        "    best_sols.append(Gb_Sol.copy())\n",
        "\n",
        "    # Initialize memory for previous positions\n",
        "    Xp = X.copy()\n",
        "\n",
        "    with tqdm(total=Tmax, desc='CPO Optimization', unit='iter') as pbar:\n",
        "        for t in range(Tmax):\n",
        "            # Dynamic parameter adjustment based on iteration\n",
        "            progress = t / Tmax\n",
        "\n",
        "            # Adaptive scales - decrease over time but maintain minimum exploration\n",
        "            global_scale = 0.2 * (1 - progress)**0.5 + 0.05\n",
        "            local_scale = 0.15 * (1 - progress)**0.3 + 0.02\n",
        "\n",
        "            # Adaptive exploration probability - higher early, lower later\n",
        "            exploration_prob = 0.7 * (1 - progress)**0.7 + 0.2\n",
        "\n",
        "            # Sort by fitness for rank-based selection\n",
        "            sorted_idx = np.argsort(fitness)\n",
        "\n",
        "            for i in range(Pop_size):\n",
        "                # Different strategies based on agent rank\n",
        "                agent_rank = np.where(sorted_idx == i)[0][0] / Pop_size\n",
        "\n",
        "                # Generate random binary mask\n",
        "                U1 = np.random.rand(dim) > 0.5  # Balanced mask\n",
        "\n",
        "                # Custom scales for different parameters\n",
        "                scale = np.array([0.2, 0.15, 0.1, 0.1])\n",
        "\n",
        "                if np.random.rand() < exploration_prob:  # Exploration phase\n",
        "                    if agent_rank < 0.3 or np.random.rand() < 0.7:  # Elite agents or random chance\n",
        "                        # Move toward global best with noise\n",
        "                        rand_agent = X[np.random.randint(Pop_size), :]\n",
        "                        y = (X[i, :] + rand_agent) / 2\n",
        "                        noise = np.random.randn(dim) * scale * global_scale\n",
        "                        X_new = X[i, :] + noise * abs(2 * np.random.rand() * Gb_Sol - y)\n",
        "                    else:\n",
        "                        # Strong exploration for weaker solutions\n",
        "                        y1 = X[np.random.choice(sorted_idx[:5])].copy()  # Top 5 solution\n",
        "                        y2 = X[np.random.randint(Pop_size), :].copy()    # Random solution\n",
        "                        blend = np.random.rand()\n",
        "                        X_new = U1 * X[i, :] + (1-U1) * (blend * y1 + (1-blend) * y2 +\n",
        "                                                          global_scale * np.random.randn(dim) * (ub - lb) * scale)\n",
        "                else:  # Exploitation phase\n",
        "                    # Adaptive exploitation factor\n",
        "                    Yt = 2 * (np.random.rand() * 0.5 + 0.5) * (1 - progress)**2\n",
        "                    U2 = (np.random.rand(dim) < 0.5) * 2 - 1  # Random direction\n",
        "\n",
        "                    if agent_rank < 0.5 or np.random.rand() < 0.6:  # Better solutions\n",
        "                        # Fitness-weighted movement toward top solutions\n",
        "                        fit_weight = np.exp(-fitness[i] / (np.mean(fitness) + np.finfo(float).eps))\n",
        "\n",
        "                        # Select from top solutions with preference to best\n",
        "                        top_k = max(3, int(5 * (1-progress)))  # Adaptive number of top solutions\n",
        "                        top_probs = np.exp(-np.arange(top_k) / 2)\n",
        "                        top_probs = top_probs / np.sum(top_probs)\n",
        "                        leader_idx = np.random.choice(sorted_idx[:top_k], p=top_probs)\n",
        "                        leader = X[leader_idx, :].copy()\n",
        "\n",
        "                        # Adaptive step size based on fitness and progress\n",
        "                        step = fit_weight * local_scale * (1 + np.random.rand())\n",
        "                        X_new = X[i, :] + step * U2 * (leader - X[i, :])\n",
        "\n",
        "                        # Add small perturbation for diversity\n",
        "                        X_new += 0.05 * local_scale * np.random.randn(dim) * (ub - lb) * scale\n",
        "                    else:\n",
        "                        # More aggressive movement for worse solutions\n",
        "                        top_idx = sorted_idx[:3]  # Top 3 solutions\n",
        "                        leader = X[np.random.choice(top_idx), :].copy()\n",
        "\n",
        "                        # Calculate direction based on differences between solutions\n",
        "                        diff_vector = leader - X[i, :]\n",
        "                        step_size = Yt * (0.5 + np.random.rand() * 0.5)\n",
        "                        X_new = X[i, :] + step_size * diff_vector + local_scale * np.random.randn(dim) * scale * (ub - lb)\n",
        "\n",
        "                # Make sure gru_units is an integer\n",
        "                X_new[0] = round(X_new[0])\n",
        "\n",
        "                # Ensure num_heads is compatible with gru_units\n",
        "                X_new[1] = adjust_gru_heads(X_new[0], X_new[1], lb[1], ub[1])\n",
        "\n",
        "                # Ensure within bounds\n",
        "                X_new = np.clip(X_new, lb, ub)\n",
        "\n",
        "                # Evaluate new fitness (with optimized evaluation strategy)\n",
        "                nF = fobj_with_retry(X_new)\n",
        "                nF = np.nan_to_num(nF, nan=np.inf)\n",
        "\n",
        "                # Update position if better\n",
        "                if nF < fitness[i]:\n",
        "                    Xp[i, :] = X[i, :].copy()  # Backup current\n",
        "                    X[i, :] = X_new.copy()\n",
        "                    fitness[i] = nF\n",
        "\n",
        "                    # Update global best if needed\n",
        "                    if nF < Gb_Fit:\n",
        "                        Gb_Sol = X_new.copy()\n",
        "                        Gb_Fit = nF\n",
        "                        best_sols.append(Gb_Sol.copy())\n",
        "\n",
        "                        # Reset stall counter on improvement\n",
        "                        stall_counter = 0\n",
        "\n",
        "                        # Log significant improvement\n",
        "                        if Gb_Fit < last_best_fit * 0.95:  # 5% improvement\n",
        "                            pbar.write(f\"Significant improvement: {Gb_Fit:.5f}, Parameters: gru={int(Gb_Sol[0])}, \"\n",
        "                                      f\"heads={int(Gb_Sol[1])}, dropout={Gb_Sol[2]:.2f}, lr={np.exp(Gb_Sol[3]):.6f}\")\n",
        "\n",
        "            # Diversity maintenance and stagnation handling\n",
        "            improvement = abs((Gb_Fit - last_best_fit) / (last_best_fit + 1e-10))\n",
        "            if improvement < 0.01:  # Less than 1% improvement\n",
        "                stall_counter += 1\n",
        "            else:\n",
        "                stall_counter = max(0, stall_counter - 1)  # Reduce counter on improvement\n",
        "\n",
        "            last_best_fit = Gb_Fit\n",
        "\n",
        "            # Handle stagnation with increasing aggressiveness\n",
        "            if stall_counter >= 3:\n",
        "                # Perturb increasing percentage of population\n",
        "                perturb_ratio = min(0.1 + 0.1 * (stall_counter - 3), 0.5)  # Up to 50%\n",
        "                num_perturb = int(perturb_ratio * Pop_size)\n",
        "\n",
        "                # Target weaker solutions preferentially\n",
        "                perturb_candidates = sorted_idx[Pop_size//3:]  # Skip top third\n",
        "                if len(perturb_candidates) > num_perturb:\n",
        "                    perturb_idx = np.random.choice(perturb_candidates, num_perturb, replace=False)\n",
        "                else:\n",
        "                    perturb_idx = perturb_candidates\n",
        "\n",
        "                for idx in perturb_idx:\n",
        "                    # Progressive perturbation strength\n",
        "                    perturb_strength = 0.05 * (1 + stall_counter / 3)\n",
        "\n",
        "                    # Different perturbation strategies\n",
        "                    if np.random.rand() < 0.7:\n",
        "                        # Perturb around current position\n",
        "                        X[idx, :] += np.random.randn(dim) * (ub - lb) * perturb_strength * scale\n",
        "                    else:\n",
        "                        # Hard reset with bias toward promising regions\n",
        "                        if len(best_sols) > 3 and np.random.rand() < 0.5:\n",
        "                            # Initialize around previous best solutions\n",
        "                            base_sol = best_sols[np.random.randint(len(best_sols))]\n",
        "                            X[idx, :] = base_sol + np.random.randn(dim) * (ub - lb) * 0.2 * scale\n",
        "                        else:\n",
        "                            # Fresh random initialization\n",
        "                            for d in range(dim):\n",
        "                                X[idx, d] = np.random.uniform(lb[d], ub[d])\n",
        "\n",
        "                    # Fix gru_units and num_heads\n",
        "                    X[idx, 0] = round(X[idx, 0])\n",
        "                    X[idx, 1] = adjust_gru_heads(X[idx, 0], X[idx, 1], lb[1], ub[1])\n",
        "                    X[idx, :] = np.clip(X[idx, :], lb, ub)\n",
        "\n",
        "                    # Re-evaluate fitness\n",
        "                    fitness[idx] = fobj_with_retry(X[idx, :])\n",
        "                    fitness[idx] = np.nan_to_num(fitness[idx], nan=np.inf)\n",
        "\n",
        "                    # Update global best if better\n",
        "                    if fitness[idx] < Gb_Fit:\n",
        "                        Gb_Sol = X[idx, :].copy()\n",
        "                        Gb_Fit = fitness[idx]\n",
        "                        best_sols.append(Gb_Sol.copy())\n",
        "\n",
        "                # Reset stall counter if we've done a major perturbation\n",
        "                if perturb_ratio > 0.2:\n",
        "                    stall_counter = 0\n",
        "\n",
        "            # Update convergence curve and progress bar\n",
        "            Conv_curve[t] = Gb_Fit\n",
        "            pbar.set_postfix({'Best Fitness': Gb_Fit,\n",
        "                              'gru': int(Gb_Sol[0]),\n",
        "                              'heads': int(Gb_Sol[1]),\n",
        "                              'dropout': f\"{Gb_Sol[2]:.2f}\",\n",
        "                              'lr': f\"{np.exp(Gb_Sol[3]):.6f}\"})\n",
        "            pbar.update(1)\n",
        "\n",
        "            # Early stopping if excellent solution found and stabilized\n",
        "            if Gb_Fit < 0.001 and stall_counter >= 5:\n",
        "                pbar.write(f\"Early stopping at iteration {t+1}: solution converged\")\n",
        "                Conv_curve[t+1:] = Gb_Fit\n",
        "                break\n",
        "\n",
        "    return Gb_Fit, Gb_Sol, Conv_curve\n",
        "\n",
        "def fobj_with_retry(params, max_retries=2):\n",
        "    \"\"\"Robust objective function evaluation with retries and cross-validation\"\"\"\n",
        "    best_of_n = 3  # Take best of N evaluations for more stability\n",
        "    results = []\n",
        "\n",
        "    for _ in range(best_of_n):\n",
        "        for attempt in range(max_retries + 1):\n",
        "            try:\n",
        "                val = fobj(params)\n",
        "                if not np.isnan(val) and not np.isinf(val):\n",
        "                    results.append(val)\n",
        "                    break\n",
        "            except Exception as e:\n",
        "                if attempt == max_retries:\n",
        "                    print(f\"Failed evaluation after {max_retries} retries: {e}\")\n",
        "                    return np.inf\n",
        "\n",
        "    if not results:\n",
        "        return np.inf\n",
        "\n",
        "    # Return median of results for robustness (less sensitive to outliers than mean)\n",
        "    return np.median(results)\n",
        "\n",
        "def fobj(params):\n",
        "    \"\"\"Objective function for neural network hyperparameter optimization\"\"\"\n",
        "    if np.any(np.isnan(params)):\n",
        "        return np.inf\n",
        "\n",
        "    # Round GRU units to integer\n",
        "    gru_units = int(round(params[0]))\n",
        "    num_heads = int(round(params[1]))\n",
        "    dropout_rate = params[2]\n",
        "    learning_rate = np.exp(params[3])  # Convert from log scale\n",
        "\n",
        "    # Verify head compatibility\n",
        "    if (2 * gru_units) % num_heads != 0:\n",
        "        return np.inf\n",
        "\n",
        "    # Prevent extremes that might lead to unstable training\n",
        "    if gru_units < 64 or gru_units > 512:\n",
        "        return np.inf\n",
        "    if num_heads < 1 or dropout_rate < 0.1 or dropout_rate > 0.5:\n",
        "        return np.inf\n",
        "\n",
        "    # Create and train the model\n",
        "    device = torch.device('cuda' if torch.cuda.is_available() else 'cpu')\n",
        "    model = CPOBiGRUAttention(num_features, gru_units, num_heads, dropout_rate).to(device)\n",
        "    criterion = nn.MSELoss()\n",
        "    optimizer = optim.Adam(model.parameters(), lr=learning_rate, weight_decay=1e-5)\n",
        "    scheduler = optim.lr_scheduler.ReduceLROnPlateau(optimizer, mode='min', factor=0.5, patience=3)\n",
        "\n",
        "    num_epochs = 60\n",
        "    best_val_loss = float('inf')\n",
        "    patience = 10\n",
        "    patience_counter = 0\n",
        "\n",
        "    # Training loop\n",
        "    for epoch in range(num_epochs):\n",
        "        # Training phase\n",
        "        model.train()\n",
        "        train_loss = 0\n",
        "        for X_batch, y_batch in train_loader:\n",
        "            X_batch, y_batch = X_batch.to(device), y_batch.to(device)\n",
        "            optimizer.zero_grad()\n",
        "            outputs = model(X_batch)\n",
        "            loss = criterion(outputs, y_batch)\n",
        "            loss.backward()\n",
        "            torch.nn.utils.clip_grad_norm_(model.parameters(), max_norm=1.0)\n",
        "            optimizer.step()\n",
        "            train_loss += loss.item()\n",
        "        train_loss /= len(train_loader)\n",
        "\n",
        "        # Validation phase\n",
        "        model.eval()\n",
        "        val_loss = 0\n",
        "        with torch.no_grad():\n",
        "            for X_batch, y_batch in val_loader:\n",
        "                X_batch, y_batch = X_batch.to(device), y_batch.to(device)\n",
        "                outputs = model(X_batch)\n",
        "                val_loss += criterion(outputs, y_batch).item()\n",
        "        val_loss /= len(val_loader)\n",
        "\n",
        "        # Learning rate adjustment\n",
        "        scheduler.step(val_loss)\n",
        "\n",
        "        # Early stopping check\n",
        "        if val_loss < best_val_loss:\n",
        "            best_val_loss = val_loss\n",
        "            patience_counter = 0\n",
        "        else:\n",
        "            patience_counter += 1\n",
        "            if patience_counter >= patience:\n",
        "                break\n",
        "\n",
        "    return best_val_loss\n",
        "\n",
        "# Load data\n",
        "try:\n",
        "    train_loader, val_loader, test_loader, scalers, num_features = load_and_preprocess_data()\n",
        "    print(f\"Number of features: {num_features}\")\n",
        "except Exception as e:\n",
        "    print(f\"Error loading data: {e}\")\n",
        "    # Simulate data for testing if needed\n",
        "    num_features = 3  # Placeholder\n",
        "    raise ValueError(\"Data loading failed; check pv_power.csv and weather.csv.\")\n",
        "\n",
        "# Set random seeds for reproducibility\n",
        "np.random.seed(42)\n",
        "torch.manual_seed(42)\n",
        "if torch.cuda.is_available():\n",
        "    torch.cuda.manual_seed(42)\n",
        "\n",
        "# Define the device\n",
        "device = torch.device('cuda' if torch.cuda.is_available() else 'cpu')\n",
        "print(f\"Using device: {device}\")\n",
        "\n",
        "# Run CPO optimization with improved parameters\n",
        "Pop_size = 15  # Population size\n",
        "Tmax = 30      # Increased max iterations\n",
        "dim = 4        # Number of parameters to optimize\n",
        "\n",
        "# Parameter bounds (wider range for better exploration)\n",
        "lb = [64, 2, 0.1, np.log(0.0001)]  # Log-scale learning rate\n",
        "ub = [320, 16, 0.5, np.log(0.01)]   # Upper bound increased\n",
        "\n",
        "print(\"Starting CPO optimization...\")\n",
        "best_fit, best_sol, conv_curve = CPO(Pop_size, Tmax, lb, ub, dim, fobj)\n",
        "clear_output(wait=True)\n",
        "\n",
        "# Handle any NaN results\n",
        "if np.any(np.isnan(best_sol)):\n",
        "    print(\"Warning: CPO returned NaN values. Using default parameters.\")\n",
        "    best_sol = [128, 4, 0.3, np.log(0.001)]  # Default fallback\n",
        "\n",
        "# Convert parameters to appropriate types\n",
        "best_gru_units = int(round(best_sol[0]))\n",
        "best_num_heads = int(round(best_sol[1]))\n",
        "best_dropout = best_sol[2]\n",
        "best_lr = np.exp(best_sol[3])  # Convert from log scale\n",
        "\n",
        "print(f\"Best parameters found:\")\n",
        "print(f\"GRU Units: {best_gru_units}\")\n",
        "print(f\"Number of Attention Heads: {best_num_heads}\")\n",
        "print(f\"Dropout Rate: {best_dropout:.4f}\")\n",
        "print(f\"Learning Rate: {best_lr:.6f}\")\n",
        "print(f\"Best Validation Loss: {best_fit:.6f}\")\n",
        "\n",
        "# Plot convergence curve\n",
        "plt.figure(figsize=(10, 6))\n",
        "plt.plot(conv_curve)\n",
        "plt.title('CPO Convergence Curve')\n",
        "plt.xlabel('Iteration')\n",
        "plt.ylabel('Validation Loss')\n",
        "plt.grid(True)\n",
        "plt.tight_layout()\n",
        "plt.savefig('cpo_convergence.png')\n",
        "plt.show()\n",
        "\n"
      ]
    },
    {
      "cell_type": "code",
      "execution_count": 12,
      "metadata": {
        "colab": {
          "base_uri": "https://localhost:8080/"
        },
        "id": "t-kiF_Bu8lec",
        "outputId": "b67a88bb-a461-4638-d34e-8046490aad7d"
      },
      "outputs": [
        {
          "name": "stderr",
          "output_type": "stream",
          "text": [
            "Epoch 1/110: 100%|██████████| 15/15 [00:00<00:00, 92.94it/s]\n"
          ]
        },
        {
          "name": "stdout",
          "output_type": "stream",
          "text": [
            "Epoch 1/110, Train Loss: 0.1119, Val Loss: 0.0525\n"
          ]
        },
        {
          "name": "stderr",
          "output_type": "stream",
          "text": [
            "Epoch 2/110: 100%|██████████| 15/15 [00:00<00:00, 108.05it/s]\n"
          ]
        },
        {
          "name": "stdout",
          "output_type": "stream",
          "text": [
            "Epoch 2/110, Train Loss: 0.0432, Val Loss: 0.0184\n"
          ]
        },
        {
          "name": "stderr",
          "output_type": "stream",
          "text": [
            "Epoch 3/110: 100%|██████████| 15/15 [00:00<00:00, 126.61it/s]\n"
          ]
        },
        {
          "name": "stdout",
          "output_type": "stream",
          "text": [
            "Epoch 3/110, Train Loss: 0.0164, Val Loss: 0.0075\n"
          ]
        },
        {
          "name": "stderr",
          "output_type": "stream",
          "text": [
            "Epoch 4/110: 100%|██████████| 15/15 [00:00<00:00, 122.71it/s]\n"
          ]
        },
        {
          "name": "stdout",
          "output_type": "stream",
          "text": [
            "Epoch 4/110, Train Loss: 0.0119, Val Loss: 0.0083\n"
          ]
        },
        {
          "name": "stderr",
          "output_type": "stream",
          "text": [
            "Epoch 5/110: 100%|██████████| 15/15 [00:00<00:00, 118.90it/s]\n"
          ]
        },
        {
          "name": "stdout",
          "output_type": "stream",
          "text": [
            "Epoch 5/110, Train Loss: 0.0100, Val Loss: 0.0062\n"
          ]
        },
        {
          "name": "stderr",
          "output_type": "stream",
          "text": [
            "Epoch 6/110: 100%|██████████| 15/15 [00:00<00:00, 122.02it/s]\n"
          ]
        },
        {
          "name": "stdout",
          "output_type": "stream",
          "text": [
            "Epoch 6/110, Train Loss: 0.0139, Val Loss: 0.0078\n"
          ]
        },
        {
          "name": "stderr",
          "output_type": "stream",
          "text": [
            "Epoch 7/110: 100%|██████████| 15/15 [00:00<00:00, 122.50it/s]\n"
          ]
        },
        {
          "name": "stdout",
          "output_type": "stream",
          "text": [
            "Epoch 7/110, Train Loss: 0.0119, Val Loss: 0.0073\n"
          ]
        },
        {
          "name": "stderr",
          "output_type": "stream",
          "text": [
            "Epoch 8/110: 100%|██████████| 15/15 [00:00<00:00, 115.01it/s]\n"
          ]
        },
        {
          "name": "stdout",
          "output_type": "stream",
          "text": [
            "Epoch 8/110, Train Loss: 0.0120, Val Loss: 0.0064\n"
          ]
        },
        {
          "name": "stderr",
          "output_type": "stream",
          "text": [
            "Epoch 9/110: 100%|██████████| 15/15 [00:00<00:00, 84.38it/s]\n"
          ]
        },
        {
          "name": "stdout",
          "output_type": "stream",
          "text": [
            "Epoch 9/110, Train Loss: 0.0099, Val Loss: 0.0074\n"
          ]
        },
        {
          "name": "stderr",
          "output_type": "stream",
          "text": [
            "Epoch 10/110: 100%|██████████| 15/15 [00:00<00:00, 86.67it/s]\n"
          ]
        },
        {
          "name": "stdout",
          "output_type": "stream",
          "text": [
            "Epoch 10/110, Train Loss: 0.0103, Val Loss: 0.0066\n"
          ]
        },
        {
          "name": "stderr",
          "output_type": "stream",
          "text": [
            "Epoch 11/110: 100%|██████████| 15/15 [00:00<00:00, 89.89it/s]\n"
          ]
        },
        {
          "name": "stdout",
          "output_type": "stream",
          "text": [
            "Epoch 11/110, Train Loss: 0.0108, Val Loss: 0.0059\n"
          ]
        },
        {
          "name": "stderr",
          "output_type": "stream",
          "text": [
            "Epoch 12/110: 100%|██████████| 15/15 [00:00<00:00, 91.76it/s]\n"
          ]
        },
        {
          "name": "stdout",
          "output_type": "stream",
          "text": [
            "Epoch 12/110, Train Loss: 0.0075, Val Loss: 0.0071\n"
          ]
        },
        {
          "name": "stderr",
          "output_type": "stream",
          "text": [
            "Epoch 13/110: 100%|██████████| 15/15 [00:00<00:00, 92.21it/s]\n"
          ]
        },
        {
          "name": "stdout",
          "output_type": "stream",
          "text": [
            "Epoch 13/110, Train Loss: 0.0090, Val Loss: 0.0070\n"
          ]
        },
        {
          "name": "stderr",
          "output_type": "stream",
          "text": [
            "Epoch 14/110: 100%|██████████| 15/15 [00:00<00:00, 92.71it/s]\n"
          ]
        },
        {
          "name": "stdout",
          "output_type": "stream",
          "text": [
            "Epoch 14/110, Train Loss: 0.0098, Val Loss: 0.0085\n"
          ]
        },
        {
          "name": "stderr",
          "output_type": "stream",
          "text": [
            "Epoch 15/110: 100%|██████████| 15/15 [00:00<00:00, 89.22it/s]\n"
          ]
        },
        {
          "name": "stdout",
          "output_type": "stream",
          "text": [
            "Epoch 15/110, Train Loss: 0.0083, Val Loss: 0.0080\n"
          ]
        },
        {
          "name": "stderr",
          "output_type": "stream",
          "text": [
            "Epoch 16/110: 100%|██████████| 15/15 [00:00<00:00, 85.05it/s]\n"
          ]
        },
        {
          "name": "stdout",
          "output_type": "stream",
          "text": [
            "Epoch 16/110, Train Loss: 0.0082, Val Loss: 0.0092\n"
          ]
        },
        {
          "name": "stderr",
          "output_type": "stream",
          "text": [
            "Epoch 17/110: 100%|██████████| 15/15 [00:00<00:00, 85.92it/s]\n"
          ]
        },
        {
          "name": "stdout",
          "output_type": "stream",
          "text": [
            "Epoch 17/110, Train Loss: 0.0095, Val Loss: 0.0079\n"
          ]
        },
        {
          "name": "stderr",
          "output_type": "stream",
          "text": [
            "Epoch 18/110: 100%|██████████| 15/15 [00:00<00:00, 82.89it/s]\n"
          ]
        },
        {
          "name": "stdout",
          "output_type": "stream",
          "text": [
            "Epoch 18/110, Train Loss: 0.0101, Val Loss: 0.0071\n"
          ]
        },
        {
          "name": "stderr",
          "output_type": "stream",
          "text": [
            "Epoch 19/110: 100%|██████████| 15/15 [00:00<00:00, 100.41it/s]\n"
          ]
        },
        {
          "name": "stdout",
          "output_type": "stream",
          "text": [
            "Epoch 19/110, Train Loss: 0.0099, Val Loss: 0.0079\n"
          ]
        },
        {
          "name": "stderr",
          "output_type": "stream",
          "text": [
            "Epoch 20/110: 100%|██████████| 15/15 [00:00<00:00, 110.98it/s]\n"
          ]
        },
        {
          "name": "stdout",
          "output_type": "stream",
          "text": [
            "Epoch 20/110, Train Loss: 0.0096, Val Loss: 0.0065\n"
          ]
        },
        {
          "name": "stderr",
          "output_type": "stream",
          "text": [
            "Epoch 21/110: 100%|██████████| 15/15 [00:00<00:00, 121.12it/s]"
          ]
        },
        {
          "name": "stdout",
          "output_type": "stream",
          "text": [
            "Early stopping triggered at epoch 21.\n"
          ]
        },
        {
          "name": "stderr",
          "output_type": "stream",
          "text": [
            "\n"
          ]
        }
      ],
      "source": [
        "model = CPOBiGRUAttention(\n",
        "    num_features, int(best_sol[0]), int(best_sol[1]), best_sol[2]\n",
        ").to(device)\n",
        "optimizer = optim.Adam(model.parameters(), lr=np.exp(best_sol[3]))\n",
        "scheduler = optim.lr_scheduler.ReduceLROnPlateau(optimizer, mode='min', factor=0.5, patience=5)\n",
        "criterion = nn.MSELoss()\n",
        "\n",
        "num_epochs = 110\n",
        "patience = 10\n",
        "best_val_loss = float('inf')\n",
        "patience_counter = 0\n",
        "train_losses, val_losses = [], []\n",
        "for epoch in range(num_epochs):\n",
        "    model.train()\n",
        "    train_loss = 0\n",
        "    for X_batch, y_batch in tqdm(train_loader, desc=f\"Epoch {epoch+1}/{num_epochs}\"):\n",
        "        X_batch, y_batch = X_batch.to(device), y_batch.to(device)\n",
        "        optimizer.zero_grad()\n",
        "        outputs = model(X_batch)\n",
        "        loss = criterion(outputs, y_batch)\n",
        "        loss.backward()\n",
        "        torch.nn.utils.clip_grad_norm_(model.parameters(), max_norm=1.0)\n",
        "        optimizer.step()\n",
        "        train_loss += loss.item()\n",
        "    train_losses.append(train_loss / len(train_loader))\n",
        "\n",
        "    model.eval()\n",
        "    val_loss = 0\n",
        "    with torch.no_grad():\n",
        "        for X_batch, y_batch in val_loader:\n",
        "            X_batch, y_batch = X_batch.to(device), y_batch.to(device)\n",
        "            outputs = model(X_batch)\n",
        "            val_loss += criterion(outputs, y_batch).item()\n",
        "    val_loss /= len(val_loader)\n",
        "    val_losses.append(val_loss)\n",
        "    scheduler.step(val_loss)\n",
        "\n",
        "    if val_loss < best_val_loss:\n",
        "        best_val_loss = val_loss\n",
        "        patience_counter = 0\n",
        "    else:\n",
        "        patience_counter += 1\n",
        "        if patience_counter >= patience:\n",
        "            print(f\"Early stopping triggered at epoch {epoch+1}.\")\n",
        "            break\n",
        "\n",
        "    print(f\"Epoch {epoch+1}/{num_epochs}, Train Loss: {train_losses[-1]:.4f}, Val Loss: {val_losses[-1]:.4f}\")"
      ]
    },
    {
      "cell_type": "code",
      "execution_count": 13,
      "metadata": {
        "colab": {
          "base_uri": "https://localhost:8080/",
          "height": 1000
        },
        "id": "yJi5IDG48LRw",
        "outputId": "680c0903-6f7d-423b-dc7e-4bf19e697607"
      },
      "outputs": [
        {
          "name": "stdout",
          "output_type": "stream",
          "text": [
            "CPO+BiGRU+Attention Test RMSE: 89.2064, MAE: 54.1565, MAPE: 30.32%, R²: 0.9363\n"
          ]
        },
        {
          "data": {
            "image/png": "[encoded data removed]",
            "text/plain": [
              "<Figure size 1200x600 with 1 Axes>"
            ]
          },
          "metadata": {},
          "output_type": "display_data"
        },
        {
          "data": {
            "image/png": "[encoded data removed]",
            "text/plain": [
              "<Figure size 1200x600 with 1 Axes>"
            ]
          },
          "metadata": {},
          "output_type": "display_data"
        },
        {
          "name": "stdout",
          "output_type": "stream",
          "text": [
            "Results saved in results_cpo_bigru_20250417_115537/\n"
          ]
        }
      ],
      "source": [
        "try:\n",
        "    scalers\n",
        "except NameError:\n",
        "    train_loader, val_loader, test_loader, scalers, num_features = load_and_preprocess_data()\n",
        "    print(\"Reloaded data to retrieve scalers.\")\n",
        "\n",
        "model.eval()\n",
        "predictions, actuals = [], []\n",
        "with torch.no_grad():\n",
        "    for X_batch, y_batch in test_loader:\n",
        "        X_batch, y_batch = X_batch.to(device), y_batch.to(device)\n",
        "        outputs = model(X_batch)\n",
        "        predictions.append(outputs.cpu().numpy())\n",
        "        actuals.append(y_batch.cpu().numpy())\n",
        "\n",
        "predictions = np.concatenate(predictions)\n",
        "actuals = np.concatenate(actuals)\n",
        "predictions = scalers['power'].inverse_transform(predictions)\n",
        "actuals = scalers['power'].inverse_transform(actuals)\n",
        "\n",
        "# Compute metrics\n",
        "rmse = np.sqrt(mean_squared_error(actuals, predictions))\n",
        "mae = mean_absolute_error(actuals, predictions)\n",
        "valid_mask = actuals.flatten() > 1e-5\n",
        "mape = np.mean(np.abs((actuals[valid_mask] - predictions[valid_mask]) /\n",
        "                      (actuals[valid_mask] + 1e-10))) * 100 if valid_mask.any() else np.inf\n",
        "r2 = r2_score(actuals, predictions)\n",
        "print(f\"CPO+BiGRU+Attention Test RMSE: {rmse:.4f}, MAE: {mae:.4f}, MAPE: {mape:.2f}%, R²: {r2:.4f}\")\n",
        "\n",
        "# Visualization\n",
        "plt.figure(figsize=(12, 6))\n",
        "plt.plot(actuals[:100], label='Actual Power (kW)')\n",
        "plt.plot(predictions[:100], label='Predicted Power (kW)')\n",
        "plt.title('Actual vs Predicted Solar Power (First 100 Test Samples)')\n",
        "plt.xlabel('Time Step')\n",
        "plt.ylabel('Power (kW)')\n",
        "plt.legend()\n",
        "plt.show()\n",
        "\n",
        "plt.figure(figsize=(12, 6))\n",
        "plt.plot(train_losses, label='Train Loss')\n",
        "plt.plot(val_losses, label='Validation Loss')\n",
        "plt.title('Training and Validation Loss Over Epochs')\n",
        "plt.xlabel('Epoch')\n",
        "plt.ylabel('Loss')\n",
        "plt.legend()\n",
        "plt.grid()\n",
        "plt.show()\n",
        "\n",
        "# Save results\n",
        "current_time = datetime.datetime.now().strftime(\"%Y%m%d_%H%M%S\")\n",
        "os.makedirs(f\"results_cpo_bigru_{current_time}\", exist_ok=True)\n",
        "pd.DataFrame({'Actual': actuals.flatten(), 'Predicted': predictions.flatten()}).to_csv(\n",
        "    f\"results_cpo_bigru_{current_time}/predictions.csv\", index=False\n",
        ")\n",
        "torch.save(model.state_dict(), f\"results_cpo_bigru_{current_time}/model.pt\")\n",
        "print(f\"Results saved in results_cpo_bigru_{current_time}/\")"
      ]
    },
    {
      "cell_type": "code",
      "execution_count": 14,
      "metadata": {
        "colab": {
          "base_uri": "https://localhost:8080/"
        },
        "id": "1CCqqnNuonyw",
        "outputId": "a896be16-97a2-4b97-97f3-eacf45e9ba89"
      },
      "outputs": [
        {
          "name": "stderr",
          "output_type": "stream",
          "text": [
            "Epoch 1/100: 100%|██████████| 15/15 [00:00<00:00, 248.36it/s]\n"
          ]
        },
        {
          "name": "stdout",
          "output_type": "stream",
          "text": [
            "BiGRU Epoch 1/100, Train Loss: 0.0647, Val Loss: 0.0161\n"
          ]
        },
        {
          "name": "stderr",
          "output_type": "stream",
          "text": [
            "Epoch 2/100: 100%|██████████| 15/15 [00:00<00:00, 230.49it/s]\n"
          ]
        },
        {
          "name": "stdout",
          "output_type": "stream",
          "text": [
            "BiGRU Epoch 2/100, Train Loss: 0.0170, Val Loss: 0.0187\n"
          ]
        },
        {
          "name": "stderr",
          "output_type": "stream",
          "text": [
            "Epoch 3/100: 100%|██████████| 15/15 [00:00<00:00, 255.51it/s]\n"
          ]
        },
        {
          "name": "stdout",
          "output_type": "stream",
          "text": [
            "BiGRU Epoch 3/100, Train Loss: 0.0109, Val Loss: 0.0089\n"
          ]
        },
        {
          "name": "stderr",
          "output_type": "stream",
          "text": [
            "Epoch 4/100: 100%|██████████| 15/15 [00:00<00:00, 254.73it/s]\n"
          ]
        },
        {
          "name": "stdout",
          "output_type": "stream",
          "text": [
            "BiGRU Epoch 4/100, Train Loss: 0.0082, Val Loss: 0.0091\n"
          ]
        },
        {
          "name": "stderr",
          "output_type": "stream",
          "text": [
            "Epoch 5/100: 100%|██████████| 15/15 [00:00<00:00, 254.57it/s]\n"
          ]
        },
        {
          "name": "stdout",
          "output_type": "stream",
          "text": [
            "BiGRU Epoch 5/100, Train Loss: 0.0106, Val Loss: 0.0084\n"
          ]
        },
        {
          "name": "stderr",
          "output_type": "stream",
          "text": [
            "Epoch 6/100: 100%|██████████| 15/15 [00:00<00:00, 264.71it/s]\n"
          ]
        },
        {
          "name": "stdout",
          "output_type": "stream",
          "text": [
            "BiGRU Epoch 6/100, Train Loss: 0.0115, Val Loss: 0.0084\n"
          ]
        },
        {
          "name": "stderr",
          "output_type": "stream",
          "text": [
            "Epoch 7/100: 100%|██████████| 15/15 [00:00<00:00, 258.33it/s]\n"
          ]
        },
        {
          "name": "stdout",
          "output_type": "stream",
          "text": [
            "BiGRU Epoch 7/100, Train Loss: 0.0084, Val Loss: 0.0080\n"
          ]
        },
        {
          "name": "stderr",
          "output_type": "stream",
          "text": [
            "Epoch 8/100: 100%|██████████| 15/15 [00:00<00:00, 240.83it/s]\n"
          ]
        },
        {
          "name": "stdout",
          "output_type": "stream",
          "text": [
            "BiGRU Epoch 8/100, Train Loss: 0.0075, Val Loss: 0.0082\n"
          ]
        },
        {
          "name": "stderr",
          "output_type": "stream",
          "text": [
            "Epoch 9/100: 100%|██████████| 15/15 [00:00<00:00, 257.68it/s]\n"
          ]
        },
        {
          "name": "stdout",
          "output_type": "stream",
          "text": [
            "BiGRU Epoch 9/100, Train Loss: 0.0087, Val Loss: 0.0079\n"
          ]
        },
        {
          "name": "stderr",
          "output_type": "stream",
          "text": [
            "Epoch 10/100: 100%|██████████| 15/15 [00:00<00:00, 261.25it/s]\n"
          ]
        },
        {
          "name": "stdout",
          "output_type": "stream",
          "text": [
            "BiGRU Epoch 10/100, Train Loss: 0.0085, Val Loss: 0.0075\n"
          ]
        },
        {
          "name": "stderr",
          "output_type": "stream",
          "text": [
            "Epoch 11/100: 100%|██████████| 15/15 [00:00<00:00, 240.60it/s]\n"
          ]
        },
        {
          "name": "stdout",
          "output_type": "stream",
          "text": [
            "BiGRU Epoch 11/100, Train Loss: 0.0073, Val Loss: 0.0073\n"
          ]
        },
        {
          "name": "stderr",
          "output_type": "stream",
          "text": [
            "Epoch 12/100: 100%|██████████| 15/15 [00:00<00:00, 259.41it/s]\n"
          ]
        },
        {
          "name": "stdout",
          "output_type": "stream",
          "text": [
            "BiGRU Epoch 12/100, Train Loss: 0.0083, Val Loss: 0.0071\n"
          ]
        },
        {
          "name": "stderr",
          "output_type": "stream",
          "text": [
            "Epoch 13/100: 100%|██████████| 15/15 [00:00<00:00, 250.58it/s]\n"
          ]
        },
        {
          "name": "stdout",
          "output_type": "stream",
          "text": [
            "BiGRU Epoch 13/100, Train Loss: 0.0089, Val Loss: 0.0110\n"
          ]
        },
        {
          "name": "stderr",
          "output_type": "stream",
          "text": [
            "Epoch 14/100: 100%|██████████| 15/15 [00:00<00:00, 247.61it/s]\n"
          ]
        },
        {
          "name": "stdout",
          "output_type": "stream",
          "text": [
            "BiGRU Epoch 14/100, Train Loss: 0.0077, Val Loss: 0.0077\n"
          ]
        },
        {
          "name": "stderr",
          "output_type": "stream",
          "text": [
            "Epoch 15/100: 100%|██████████| 15/15 [00:00<00:00, 258.07it/s]\n"
          ]
        },
        {
          "name": "stdout",
          "output_type": "stream",
          "text": [
            "BiGRU Epoch 15/100, Train Loss: 0.0081, Val Loss: 0.0080\n"
          ]
        },
        {
          "name": "stderr",
          "output_type": "stream",
          "text": [
            "Epoch 16/100: 100%|██████████| 15/15 [00:00<00:00, 247.24it/s]\n"
          ]
        },
        {
          "name": "stdout",
          "output_type": "stream",
          "text": [
            "BiGRU Epoch 16/100, Train Loss: 0.0079, Val Loss: 0.0069\n"
          ]
        },
        {
          "name": "stderr",
          "output_type": "stream",
          "text": [
            "Epoch 17/100: 100%|██████████| 15/15 [00:00<00:00, 255.56it/s]\n"
          ]
        },
        {
          "name": "stdout",
          "output_type": "stream",
          "text": [
            "BiGRU Epoch 17/100, Train Loss: 0.0073, Val Loss: 0.0072\n"
          ]
        },
        {
          "name": "stderr",
          "output_type": "stream",
          "text": [
            "Epoch 18/100: 100%|██████████| 15/15 [00:00<00:00, 256.82it/s]\n"
          ]
        },
        {
          "name": "stdout",
          "output_type": "stream",
          "text": [
            "BiGRU Epoch 18/100, Train Loss: 0.0074, Val Loss: 0.0069\n"
          ]
        },
        {
          "name": "stderr",
          "output_type": "stream",
          "text": [
            "Epoch 19/100: 100%|██████████| 15/15 [00:00<00:00, 258.12it/s]\n"
          ]
        },
        {
          "name": "stdout",
          "output_type": "stream",
          "text": [
            "BiGRU Epoch 19/100, Train Loss: 0.0075, Val Loss: 0.0066\n"
          ]
        },
        {
          "name": "stderr",
          "output_type": "stream",
          "text": [
            "Epoch 20/100: 100%|██████████| 15/15 [00:00<00:00, 259.38it/s]\n"
          ]
        },
        {
          "name": "stdout",
          "output_type": "stream",
          "text": [
            "BiGRU Epoch 20/100, Train Loss: 0.0074, Val Loss: 0.0067\n"
          ]
        },
        {
          "name": "stderr",
          "output_type": "stream",
          "text": [
            "Epoch 21/100: 100%|██████████| 15/15 [00:00<00:00, 247.74it/s]\n"
          ]
        },
        {
          "name": "stdout",
          "output_type": "stream",
          "text": [
            "BiGRU Epoch 21/100, Train Loss: 0.0077, Val Loss: 0.0066\n"
          ]
        },
        {
          "name": "stderr",
          "output_type": "stream",
          "text": [
            "Epoch 22/100: 100%|██████████| 15/15 [00:00<00:00, 216.64it/s]\n"
          ]
        },
        {
          "name": "stdout",
          "output_type": "stream",
          "text": [
            "BiGRU Epoch 22/100, Train Loss: 0.0078, Val Loss: 0.0070\n"
          ]
        },
        {
          "name": "stderr",
          "output_type": "stream",
          "text": [
            "Epoch 23/100: 100%|██████████| 15/15 [00:00<00:00, 257.25it/s]\n"
          ]
        },
        {
          "name": "stdout",
          "output_type": "stream",
          "text": [
            "BiGRU Epoch 23/100, Train Loss: 0.0085, Val Loss: 0.0067\n"
          ]
        },
        {
          "name": "stderr",
          "output_type": "stream",
          "text": [
            "Epoch 24/100: 100%|██████████| 15/15 [00:00<00:00, 254.55it/s]\n"
          ]
        },
        {
          "name": "stdout",
          "output_type": "stream",
          "text": [
            "BiGRU Epoch 24/100, Train Loss: 0.0071, Val Loss: 0.0065\n"
          ]
        },
        {
          "name": "stderr",
          "output_type": "stream",
          "text": [
            "Epoch 25/100: 100%|██████████| 15/15 [00:00<00:00, 254.40it/s]\n"
          ]
        },
        {
          "name": "stdout",
          "output_type": "stream",
          "text": [
            "BiGRU Epoch 25/100, Train Loss: 0.0070, Val Loss: 0.0087\n"
          ]
        },
        {
          "name": "stderr",
          "output_type": "stream",
          "text": [
            "Epoch 26/100: 100%|██████████| 15/15 [00:00<00:00, 245.16it/s]\n"
          ]
        },
        {
          "name": "stdout",
          "output_type": "stream",
          "text": [
            "BiGRU Epoch 26/100, Train Loss: 0.0070, Val Loss: 0.0063\n"
          ]
        },
        {
          "name": "stderr",
          "output_type": "stream",
          "text": [
            "Epoch 27/100: 100%|██████████| 15/15 [00:00<00:00, 265.91it/s]\n"
          ]
        },
        {
          "name": "stdout",
          "output_type": "stream",
          "text": [
            "BiGRU Epoch 27/100, Train Loss: 0.0065, Val Loss: 0.0069\n"
          ]
        },
        {
          "name": "stderr",
          "output_type": "stream",
          "text": [
            "Epoch 28/100: 100%|██████████| 15/15 [00:00<00:00, 259.15it/s]\n"
          ]
        },
        {
          "name": "stdout",
          "output_type": "stream",
          "text": [
            "BiGRU Epoch 28/100, Train Loss: 0.0082, Val Loss: 0.0077\n"
          ]
        },
        {
          "name": "stderr",
          "output_type": "stream",
          "text": [
            "Epoch 29/100: 100%|██████████| 15/15 [00:00<00:00, 264.65it/s]\n"
          ]
        },
        {
          "name": "stdout",
          "output_type": "stream",
          "text": [
            "BiGRU Epoch 29/100, Train Loss: 0.0061, Val Loss: 0.0068\n"
          ]
        },
        {
          "name": "stderr",
          "output_type": "stream",
          "text": [
            "Epoch 30/100: 100%|██████████| 15/15 [00:00<00:00, 247.38it/s]\n"
          ]
        },
        {
          "name": "stdout",
          "output_type": "stream",
          "text": [
            "BiGRU Epoch 30/100, Train Loss: 0.0073, Val Loss: 0.0070\n"
          ]
        },
        {
          "name": "stderr",
          "output_type": "stream",
          "text": [
            "Epoch 31/100: 100%|██████████| 15/15 [00:00<00:00, 264.55it/s]\n"
          ]
        },
        {
          "name": "stdout",
          "output_type": "stream",
          "text": [
            "BiGRU Epoch 31/100, Train Loss: 0.0070, Val Loss: 0.0065\n"
          ]
        },
        {
          "name": "stderr",
          "output_type": "stream",
          "text": [
            "Epoch 32/100: 100%|██████████| 15/15 [00:00<00:00, 263.78it/s]\n"
          ]
        },
        {
          "name": "stdout",
          "output_type": "stream",
          "text": [
            "BiGRU Epoch 32/100, Train Loss: 0.0069, Val Loss: 0.0065\n"
          ]
        },
        {
          "name": "stderr",
          "output_type": "stream",
          "text": [
            "Epoch 33/100: 100%|██████████| 15/15 [00:00<00:00, 254.73it/s]\n"
          ]
        },
        {
          "name": "stdout",
          "output_type": "stream",
          "text": [
            "BiGRU Epoch 33/100, Train Loss: 0.0067, Val Loss: 0.0063\n"
          ]
        },
        {
          "name": "stderr",
          "output_type": "stream",
          "text": [
            "Epoch 34/100: 100%|██████████| 15/15 [00:00<00:00, 266.18it/s]\n"
          ]
        },
        {
          "name": "stdout",
          "output_type": "stream",
          "text": [
            "BiGRU Epoch 34/100, Train Loss: 0.0070, Val Loss: 0.0065\n"
          ]
        },
        {
          "name": "stderr",
          "output_type": "stream",
          "text": [
            "Epoch 35/100: 100%|██████████| 15/15 [00:00<00:00, 254.85it/s]\n"
          ]
        },
        {
          "name": "stdout",
          "output_type": "stream",
          "text": [
            "BiGRU Epoch 35/100, Train Loss: 0.0079, Val Loss: 0.0067\n"
          ]
        },
        {
          "name": "stderr",
          "output_type": "stream",
          "text": [
            "Epoch 36/100: 100%|██████████| 15/15 [00:00<00:00, 242.91it/s]\n"
          ]
        },
        {
          "name": "stdout",
          "output_type": "stream",
          "text": [
            "BiGRU Epoch 36/100, Train Loss: 0.0067, Val Loss: 0.0063\n"
          ]
        },
        {
          "name": "stderr",
          "output_type": "stream",
          "text": [
            "Epoch 37/100: 100%|██████████| 15/15 [00:00<00:00, 221.71it/s]\n"
          ]
        },
        {
          "name": "stdout",
          "output_type": "stream",
          "text": [
            "BiGRU Epoch 37/100, Train Loss: 0.0072, Val Loss: 0.0063\n"
          ]
        },
        {
          "name": "stderr",
          "output_type": "stream",
          "text": [
            "Epoch 38/100: 100%|██████████| 15/15 [00:00<00:00, 250.64it/s]\n"
          ]
        },
        {
          "name": "stdout",
          "output_type": "stream",
          "text": [
            "BiGRU Epoch 38/100, Train Loss: 0.0059, Val Loss: 0.0070\n"
          ]
        },
        {
          "name": "stderr",
          "output_type": "stream",
          "text": [
            "Epoch 39/100: 100%|██████████| 15/15 [00:00<00:00, 248.68it/s]\n"
          ]
        },
        {
          "name": "stdout",
          "output_type": "stream",
          "text": [
            "BiGRU Epoch 39/100, Train Loss: 0.0064, Val Loss: 0.0061\n"
          ]
        },
        {
          "name": "stderr",
          "output_type": "stream",
          "text": [
            "Epoch 40/100: 100%|██████████| 15/15 [00:00<00:00, 255.17it/s]\n"
          ]
        },
        {
          "name": "stdout",
          "output_type": "stream",
          "text": [
            "BiGRU Epoch 40/100, Train Loss: 0.0066, Val Loss: 0.0065\n"
          ]
        },
        {
          "name": "stderr",
          "output_type": "stream",
          "text": [
            "Epoch 41/100: 100%|██████████| 15/15 [00:00<00:00, 263.03it/s]\n"
          ]
        },
        {
          "name": "stdout",
          "output_type": "stream",
          "text": [
            "BiGRU Epoch 41/100, Train Loss: 0.0062, Val Loss: 0.0072\n"
          ]
        },
        {
          "name": "stderr",
          "output_type": "stream",
          "text": [
            "Epoch 42/100: 100%|██████████| 15/15 [00:00<00:00, 266.35it/s]\n"
          ]
        },
        {
          "name": "stdout",
          "output_type": "stream",
          "text": [
            "BiGRU Epoch 42/100, Train Loss: 0.0069, Val Loss: 0.0062\n"
          ]
        },
        {
          "name": "stderr",
          "output_type": "stream",
          "text": [
            "Epoch 43/100: 100%|██████████| 15/15 [00:00<00:00, 259.43it/s]\n"
          ]
        },
        {
          "name": "stdout",
          "output_type": "stream",
          "text": [
            "BiGRU Epoch 43/100, Train Loss: 0.0070, Val Loss: 0.0063\n"
          ]
        },
        {
          "name": "stderr",
          "output_type": "stream",
          "text": [
            "Epoch 44/100: 100%|██████████| 15/15 [00:00<00:00, 259.58it/s]\n"
          ]
        },
        {
          "name": "stdout",
          "output_type": "stream",
          "text": [
            "BiGRU Epoch 44/100, Train Loss: 0.0066, Val Loss: 0.0065\n"
          ]
        },
        {
          "name": "stderr",
          "output_type": "stream",
          "text": [
            "Epoch 45/100: 100%|██████████| 15/15 [00:00<00:00, 256.19it/s]\n"
          ]
        },
        {
          "name": "stdout",
          "output_type": "stream",
          "text": [
            "BiGRU Epoch 45/100, Train Loss: 0.0063, Val Loss: 0.0069\n"
          ]
        },
        {
          "name": "stderr",
          "output_type": "stream",
          "text": [
            "Epoch 46/100: 100%|██████████| 15/15 [00:00<00:00, 257.58it/s]\n"
          ]
        },
        {
          "name": "stdout",
          "output_type": "stream",
          "text": [
            "BiGRU Epoch 46/100, Train Loss: 0.0066, Val Loss: 0.0061\n"
          ]
        },
        {
          "name": "stderr",
          "output_type": "stream",
          "text": [
            "Epoch 47/100: 100%|██████████| 15/15 [00:00<00:00, 173.46it/s]\n"
          ]
        },
        {
          "name": "stdout",
          "output_type": "stream",
          "text": [
            "BiGRU Epoch 47/100, Train Loss: 0.0065, Val Loss: 0.0061\n"
          ]
        },
        {
          "name": "stderr",
          "output_type": "stream",
          "text": [
            "Epoch 48/100: 100%|██████████| 15/15 [00:00<00:00, 170.65it/s]\n"
          ]
        },
        {
          "name": "stdout",
          "output_type": "stream",
          "text": [
            "BiGRU Epoch 48/100, Train Loss: 0.0064, Val Loss: 0.0061\n"
          ]
        },
        {
          "name": "stderr",
          "output_type": "stream",
          "text": [
            "Epoch 49/100: 100%|██████████| 15/15 [00:00<00:00, 179.04it/s]\n"
          ]
        },
        {
          "name": "stdout",
          "output_type": "stream",
          "text": [
            "BiGRU Epoch 49/100, Train Loss: 0.0056, Val Loss: 0.0063\n"
          ]
        },
        {
          "name": "stderr",
          "output_type": "stream",
          "text": [
            "Epoch 50/100: 100%|██████████| 15/15 [00:00<00:00, 150.67it/s]\n"
          ]
        },
        {
          "name": "stdout",
          "output_type": "stream",
          "text": [
            "BiGRU Epoch 50/100, Train Loss: 0.0070, Val Loss: 0.0061\n"
          ]
        },
        {
          "name": "stderr",
          "output_type": "stream",
          "text": [
            "Epoch 51/100: 100%|██████████| 15/15 [00:00<00:00, 177.59it/s]\n"
          ]
        },
        {
          "name": "stdout",
          "output_type": "stream",
          "text": [
            "BiGRU Epoch 51/100, Train Loss: 0.0060, Val Loss: 0.0062\n"
          ]
        },
        {
          "name": "stderr",
          "output_type": "stream",
          "text": [
            "Epoch 52/100: 100%|██████████| 15/15 [00:00<00:00, 177.76it/s]\n"
          ]
        },
        {
          "name": "stdout",
          "output_type": "stream",
          "text": [
            "BiGRU Epoch 52/100, Train Loss: 0.0067, Val Loss: 0.0061\n"
          ]
        },
        {
          "name": "stderr",
          "output_type": "stream",
          "text": [
            "Epoch 53/100: 100%|██████████| 15/15 [00:00<00:00, 190.20it/s]\n"
          ]
        },
        {
          "name": "stdout",
          "output_type": "stream",
          "text": [
            "BiGRU Epoch 53/100, Train Loss: 0.0060, Val Loss: 0.0060\n"
          ]
        },
        {
          "name": "stderr",
          "output_type": "stream",
          "text": [
            "Epoch 54/100: 100%|██████████| 15/15 [00:00<00:00, 188.89it/s]\n"
          ]
        },
        {
          "name": "stdout",
          "output_type": "stream",
          "text": [
            "BiGRU Epoch 54/100, Train Loss: 0.0066, Val Loss: 0.0064\n"
          ]
        },
        {
          "name": "stderr",
          "output_type": "stream",
          "text": [
            "Epoch 55/100: 100%|██████████| 15/15 [00:00<00:00, 192.52it/s]\n"
          ]
        },
        {
          "name": "stdout",
          "output_type": "stream",
          "text": [
            "BiGRU Epoch 55/100, Train Loss: 0.0064, Val Loss: 0.0064\n"
          ]
        },
        {
          "name": "stderr",
          "output_type": "stream",
          "text": [
            "Epoch 56/100: 100%|██████████| 15/15 [00:00<00:00, 191.00it/s]\n"
          ]
        },
        {
          "name": "stdout",
          "output_type": "stream",
          "text": [
            "BiGRU Epoch 56/100, Train Loss: 0.0061, Val Loss: 0.0060\n"
          ]
        },
        {
          "name": "stderr",
          "output_type": "stream",
          "text": [
            "Epoch 57/100: 100%|██████████| 15/15 [00:00<00:00, 188.72it/s]\n"
          ]
        },
        {
          "name": "stdout",
          "output_type": "stream",
          "text": [
            "BiGRU Epoch 57/100, Train Loss: 0.0071, Val Loss: 0.0068\n"
          ]
        },
        {
          "name": "stderr",
          "output_type": "stream",
          "text": [
            "Epoch 58/100: 100%|██████████| 15/15 [00:00<00:00, 194.54it/s]\n"
          ]
        },
        {
          "name": "stdout",
          "output_type": "stream",
          "text": [
            "BiGRU Epoch 58/100, Train Loss: 0.0061, Val Loss: 0.0061\n"
          ]
        },
        {
          "name": "stderr",
          "output_type": "stream",
          "text": [
            "Epoch 59/100: 100%|██████████| 15/15 [00:00<00:00, 194.94it/s]\n"
          ]
        },
        {
          "name": "stdout",
          "output_type": "stream",
          "text": [
            "BiGRU Epoch 59/100, Train Loss: 0.0062, Val Loss: 0.0061\n"
          ]
        },
        {
          "name": "stderr",
          "output_type": "stream",
          "text": [
            "Epoch 60/100: 100%|██████████| 15/15 [00:00<00:00, 189.98it/s]\n"
          ]
        },
        {
          "name": "stdout",
          "output_type": "stream",
          "text": [
            "BiGRU Epoch 60/100, Train Loss: 0.0061, Val Loss: 0.0060\n"
          ]
        },
        {
          "name": "stderr",
          "output_type": "stream",
          "text": [
            "Epoch 61/100: 100%|██████████| 15/15 [00:00<00:00, 160.64it/s]\n"
          ]
        },
        {
          "name": "stdout",
          "output_type": "stream",
          "text": [
            "BiGRU Epoch 61/100, Train Loss: 0.0067, Val Loss: 0.0063\n"
          ]
        },
        {
          "name": "stderr",
          "output_type": "stream",
          "text": [
            "Epoch 62/100: 100%|██████████| 15/15 [00:00<00:00, 171.67it/s]\n"
          ]
        },
        {
          "name": "stdout",
          "output_type": "stream",
          "text": [
            "BiGRU Epoch 62/100, Train Loss: 0.0064, Val Loss: 0.0061\n"
          ]
        },
        {
          "name": "stderr",
          "output_type": "stream",
          "text": [
            "Epoch 63/100: 100%|██████████| 15/15 [00:00<00:00, 173.72it/s]\n"
          ]
        },
        {
          "name": "stdout",
          "output_type": "stream",
          "text": [
            "BiGRU Epoch 63/100, Train Loss: 0.0072, Val Loss: 0.0059\n"
          ]
        },
        {
          "name": "stderr",
          "output_type": "stream",
          "text": [
            "Epoch 64/100: 100%|██████████| 15/15 [00:00<00:00, 180.10it/s]"
          ]
        },
        {
          "name": "stdout",
          "output_type": "stream",
          "text": [
            "BiGRU Epoch 64/100, Train Loss: 0.0071, Val Loss: 0.0062"
          ]
        },
        {
          "name": "stderr",
          "output_type": "stream",
          "text": [
            "\n"
          ]
        },
        {
          "name": "stdout",
          "output_type": "stream",
          "text": [
            "\n"
          ]
        },
        {
          "name": "stderr",
          "output_type": "stream",
          "text": [
            "Epoch 65/100: 100%|██████████| 15/15 [00:00<00:00, 159.40it/s]\n"
          ]
        },
        {
          "name": "stdout",
          "output_type": "stream",
          "text": [
            "BiGRU Epoch 65/100, Train Loss: 0.0064, Val Loss: 0.0061\n"
          ]
        },
        {
          "name": "stderr",
          "output_type": "stream",
          "text": [
            "Epoch 66/100: 100%|██████████| 15/15 [00:00<00:00, 166.56it/s]\n"
          ]
        },
        {
          "name": "stdout",
          "output_type": "stream",
          "text": [
            "BiGRU Epoch 66/100, Train Loss: 0.0073, Val Loss: 0.0060\n"
          ]
        },
        {
          "name": "stderr",
          "output_type": "stream",
          "text": [
            "Epoch 67/100: 100%|██████████| 15/15 [00:00<00:00, 170.58it/s]\n"
          ]
        },
        {
          "name": "stdout",
          "output_type": "stream",
          "text": [
            "BiGRU Epoch 67/100, Train Loss: 0.0066, Val Loss: 0.0061\n"
          ]
        },
        {
          "name": "stderr",
          "output_type": "stream",
          "text": [
            "Epoch 68/100: 100%|██████████| 15/15 [00:00<00:00, 180.06it/s]\n"
          ]
        },
        {
          "name": "stdout",
          "output_type": "stream",
          "text": [
            "BiGRU Epoch 68/100, Train Loss: 0.0068, Val Loss: 0.0060\n"
          ]
        },
        {
          "name": "stderr",
          "output_type": "stream",
          "text": [
            "Epoch 69/100: 100%|██████████| 15/15 [00:00<00:00, 245.49it/s]\n"
          ]
        },
        {
          "name": "stdout",
          "output_type": "stream",
          "text": [
            "BiGRU Epoch 69/100, Train Loss: 0.0065, Val Loss: 0.0061\n"
          ]
        },
        {
          "name": "stderr",
          "output_type": "stream",
          "text": [
            "Epoch 70/100: 100%|██████████| 15/15 [00:00<00:00, 258.23it/s]\n"
          ]
        },
        {
          "name": "stdout",
          "output_type": "stream",
          "text": [
            "BiGRU Epoch 70/100, Train Loss: 0.0056, Val Loss: 0.0060\n"
          ]
        },
        {
          "name": "stderr",
          "output_type": "stream",
          "text": [
            "Epoch 71/100: 100%|██████████| 15/15 [00:00<00:00, 255.42it/s]\n"
          ]
        },
        {
          "name": "stdout",
          "output_type": "stream",
          "text": [
            "BiGRU Epoch 71/100, Train Loss: 0.0062, Val Loss: 0.0060\n"
          ]
        },
        {
          "name": "stderr",
          "output_type": "stream",
          "text": [
            "Epoch 72/100: 100%|██████████| 15/15 [00:00<00:00, 227.63it/s]\n"
          ]
        },
        {
          "name": "stdout",
          "output_type": "stream",
          "text": [
            "BiGRU Epoch 72/100, Train Loss: 0.0063, Val Loss: 0.0059\n"
          ]
        },
        {
          "name": "stderr",
          "output_type": "stream",
          "text": [
            "Epoch 73/100: 100%|██████████| 15/15 [00:00<00:00, 248.89it/s]\n"
          ]
        },
        {
          "name": "stdout",
          "output_type": "stream",
          "text": [
            "BiGRU Epoch 73/100, Train Loss: 0.0062, Val Loss: 0.0059\n"
          ]
        },
        {
          "name": "stderr",
          "output_type": "stream",
          "text": [
            "Epoch 74/100: 100%|██████████| 15/15 [00:00<00:00, 246.35it/s]\n"
          ]
        },
        {
          "name": "stdout",
          "output_type": "stream",
          "text": [
            "BiGRU Epoch 74/100, Train Loss: 0.0057, Val Loss: 0.0062\n"
          ]
        },
        {
          "name": "stderr",
          "output_type": "stream",
          "text": [
            "Epoch 75/100: 100%|██████████| 15/15 [00:00<00:00, 247.05it/s]\n"
          ]
        },
        {
          "name": "stdout",
          "output_type": "stream",
          "text": [
            "BiGRU Epoch 75/100, Train Loss: 0.0069, Val Loss: 0.0060\n"
          ]
        },
        {
          "name": "stderr",
          "output_type": "stream",
          "text": [
            "Epoch 76/100: 100%|██████████| 15/15 [00:00<00:00, 255.95it/s]\n"
          ]
        },
        {
          "name": "stdout",
          "output_type": "stream",
          "text": [
            "BiGRU Epoch 76/100, Train Loss: 0.0059, Val Loss: 0.0061\n"
          ]
        },
        {
          "name": "stderr",
          "output_type": "stream",
          "text": [
            "Epoch 77/100: 100%|██████████| 15/15 [00:00<00:00, 249.64it/s]\n"
          ]
        },
        {
          "name": "stdout",
          "output_type": "stream",
          "text": [
            "BiGRU Epoch 77/100, Train Loss: 0.0065, Val Loss: 0.0059\n"
          ]
        },
        {
          "name": "stderr",
          "output_type": "stream",
          "text": [
            "Epoch 78/100: 100%|██████████| 15/15 [00:00<00:00, 255.07it/s]\n"
          ]
        },
        {
          "name": "stdout",
          "output_type": "stream",
          "text": [
            "BiGRU Epoch 78/100, Train Loss: 0.0059, Val Loss: 0.0059\n"
          ]
        },
        {
          "name": "stderr",
          "output_type": "stream",
          "text": [
            "Epoch 79/100: 100%|██████████| 15/15 [00:00<00:00, 250.65it/s]\n"
          ]
        },
        {
          "name": "stdout",
          "output_type": "stream",
          "text": [
            "BiGRU Epoch 79/100, Train Loss: 0.0061, Val Loss: 0.0059\n"
          ]
        },
        {
          "name": "stderr",
          "output_type": "stream",
          "text": [
            "Epoch 80/100: 100%|██████████| 15/15 [00:00<00:00, 252.96it/s]\n"
          ]
        },
        {
          "name": "stdout",
          "output_type": "stream",
          "text": [
            "BiGRU Epoch 80/100, Train Loss: 0.0063, Val Loss: 0.0060\n"
          ]
        },
        {
          "name": "stderr",
          "output_type": "stream",
          "text": [
            "Epoch 81/100: 100%|██████████| 15/15 [00:00<00:00, 245.15it/s]\n"
          ]
        },
        {
          "name": "stdout",
          "output_type": "stream",
          "text": [
            "BiGRU Epoch 81/100, Train Loss: 0.0069, Val Loss: 0.0059\n"
          ]
        },
        {
          "name": "stderr",
          "output_type": "stream",
          "text": [
            "Epoch 82/100: 100%|██████████| 15/15 [00:00<00:00, 260.77it/s]"
          ]
        },
        {
          "name": "stdout",
          "output_type": "stream",
          "text": [
            "BiGRU Epoch 82/100, Train Loss: 0.0069, Val Loss: 0.0060\n",
            "Early stopping triggered.\n",
            "BiGRU Test RMSE: 94.4876, MAE: 53.9153, MAPE: 2334159273984.00%, R²: 0.9285\n"
          ]
        },
        {
          "name": "stderr",
          "output_type": "stream",
          "text": [
            "\n"
          ]
        }
      ],
      "source": [
        "import numpy as np\n",
        "from sklearn.metrics import mean_squared_error, mean_absolute_error, r2_score\n",
        "from tqdm import tqdm\n",
        "import torch\n",
        "import torch.nn as nn\n",
        "import torch.optim as optim\n",
        "from torch.utils.data import DataLoader, TensorDataset\n",
        "\n",
        "# Define compute_metrics function\n",
        "def compute_metrics(y_true, y_pred):\n",
        "    rmse = np.sqrt(mean_squared_error(y_true, y_pred))\n",
        "    mae = mean_absolute_error(y_true, y_pred)\n",
        "    mape = np.mean(np.abs((y_true - y_pred) / (y_true + 1e-10))) * 100\n",
        "    r2 = r2_score(y_true, y_pred)\n",
        "    return rmse, mae, mape, r2\n",
        "\n",
        "class BiGRU(nn.Module):\n",
        "    def __init__(self, num_features, gru_units, dropout_rate):\n",
        "        super(BiGRU, self).__init__()\n",
        "        self.bigru = nn.GRU(num_features, gru_units, num_layers=2, bidirectional=True, batch_first=True)\n",
        "        self.fc1 = nn.Linear(gru_units * 2, 64)\n",
        "        self.fc2 = nn.Linear(64, 1)\n",
        "        self.dropout = nn.Dropout(dropout_rate)\n",
        "        self.relu = nn.ReLU()\n",
        "\n",
        "    def forward(self, x):\n",
        "        x, _ = self.bigru(x)\n",
        "        x = x[:, -1, :]\n",
        "        x = self.dropout(self.relu(self.fc1(x)))\n",
        "        x = self.fc2(x)\n",
        "        return x\n",
        "\n",
        "# Training\n",
        "model_bigru = BiGRU(num_features=num_features, gru_units=128, dropout_rate=0.3).to(device)\n",
        "criterion = nn.MSELoss()\n",
        "optimizer = optim.Adam(model_bigru.parameters(), lr=0.001)\n",
        "scheduler = optim.lr_scheduler.ReduceLROnPlateau(optimizer, mode='min', factor=0.5, patience=5)\n",
        "\n",
        "num_epochs = 100\n",
        "patience = 10\n",
        "best_val_loss = float('inf')\n",
        "patience_counter = 0\n",
        "train_losses = []\n",
        "val_losses = []\n",
        "\n",
        "for epoch in range(num_epochs):\n",
        "    model_bigru.train()\n",
        "    train_loss = 0\n",
        "    for X_batch, y_batch in tqdm(train_loader, desc=f'Epoch {epoch+1}/{num_epochs}'):\n",
        "        X_batch, y_batch = X_batch.to(device), y_batch.to(device)\n",
        "        optimizer.zero_grad()\n",
        "        outputs = model_bigru(X_batch)\n",
        "        loss = criterion(outputs, y_batch)\n",
        "        loss.backward()\n",
        "        torch.nn.utils.clip_grad_norm_(model_bigru.parameters(), max_norm=1.0)\n",
        "        optimizer.step()\n",
        "        train_loss += loss.item()\n",
        "    train_loss /= len(train_loader)\n",
        "\n",
        "    model_bigru.eval()\n",
        "    val_loss = 0\n",
        "    with torch.no_grad():\n",
        "        for X_batch, y_batch in val_loader:\n",
        "            X_batch, y_batch = X_batch.to(device), y_batch.to(device)\n",
        "            outputs = model_bigru(X_batch)\n",
        "            val_loss += criterion(outputs, y_batch).item()\n",
        "    val_loss /= len(val_loader)\n",
        "\n",
        "    train_losses.append(train_loss)\n",
        "    val_losses.append(val_loss)\n",
        "    scheduler.step(val_loss)\n",
        "\n",
        "    print(f\"BiGRU Epoch {epoch+1}/{num_epochs}, Train Loss: {train_loss:.4f}, Val Loss: {val_loss:.4f}\")\n",
        "\n",
        "    if val_loss < best_val_loss:\n",
        "        best_val_loss = val_loss\n",
        "        patience_counter = 0\n",
        "    else:\n",
        "        patience_counter += 1\n",
        "        if patience_counter >= patience:\n",
        "            print(\"Early stopping triggered.\")\n",
        "            break\n",
        "\n",
        "# Evaluate\n",
        "model_bigru.eval()\n",
        "y_true, y_pred = [], []\n",
        "with torch.no_grad():\n",
        "    for X_batch, y_batch in test_loader:\n",
        "        X_batch, y_batch = X_batch.to(device), y_batch.to(device)\n",
        "        outputs = model_bigru(X_batch)\n",
        "        y_true.extend(y_batch.cpu().numpy())\n",
        "        y_pred.extend(outputs.cpu().numpy())\n",
        "y_true = np.array(y_true).flatten()\n",
        "y_pred = np.array(y_pred).flatten()\n",
        "\n",
        "y_true = scalers['power'].inverse_transform(y_true.reshape(-1, 1)).flatten()\n",
        "y_pred = scalers['power'].inverse_transform(y_pred.reshape(-1, 1)).flatten()\n",
        "\n",
        "rmse_bigru, mae_bigru, mape_bigru, r2_bigru = compute_metrics(y_true, y_pred)\n",
        "print(f\"BiGRU Test RMSE: {rmse_bigru:.4f}, MAE: {mae_bigru:.4f}, MAPE: {mape_bigru:.2f}%, R²: {r2_bigru:.4f}\")\n",
        "\n",
        "# Save results\n",
        "results_dir = f'results_bigru_{datetime.datetime.now().strftime(\"%Y%m%d_%H%M%S\")}'\n",
        "os.makedirs(results_dir, exist_ok=True)\n",
        "pd.DataFrame({'Actual': y_true, 'Predicted': y_pred}).to_csv(f'{results_dir}/bigru_predictions.csv')\n",
        "np.save(f'{results_dir}/bigru_metrics.npy', {'rmse': rmse_bigru, 'mae': mae_bigru, 'mape': mape_bigru, 'r2': r2_bigru})"
      ]
    },
    {
      "cell_type": "code",
      "execution_count": 15,
      "metadata": {
        "colab": {
          "base_uri": "https://localhost:8080/"
        },
        "id": "F0C62q4R12t3",
        "outputId": "febce4f1-813b-49ea-c7c1-98f4197c6076"
      },
      "outputs": [
        {
          "name": "stderr",
          "output_type": "stream",
          "text": [
            "Epoch 1/100: 100%|██████████| 15/15 [00:00<00:00, 188.71it/s]\n"
          ]
        },
        {
          "name": "stdout",
          "output_type": "stream",
          "text": [
            "BiGRU+Attention Epoch 1/100, Train Loss: 0.2087, Val Loss: 0.0813\n"
          ]
        },
        {
          "name": "stderr",
          "output_type": "stream",
          "text": [
            "Epoch 2/100: 100%|██████████| 15/15 [00:00<00:00, 186.23it/s]\n"
          ]
        },
        {
          "name": "stdout",
          "output_type": "stream",
          "text": [
            "BiGRU+Attention Epoch 2/100, Train Loss: 0.0487, Val Loss: 0.0106\n"
          ]
        },
        {
          "name": "stderr",
          "output_type": "stream",
          "text": [
            "Epoch 3/100: 100%|██████████| 15/15 [00:00<00:00, 169.89it/s]\n"
          ]
        },
        {
          "name": "stdout",
          "output_type": "stream",
          "text": [
            "BiGRU+Attention Epoch 3/100, Train Loss: 0.0209, Val Loss: 0.0098\n"
          ]
        },
        {
          "name": "stderr",
          "output_type": "stream",
          "text": [
            "Epoch 4/100: 100%|██████████| 15/15 [00:00<00:00, 181.86it/s]\n"
          ]
        },
        {
          "name": "stdout",
          "output_type": "stream",
          "text": [
            "BiGRU+Attention Epoch 4/100, Train Loss: 0.0180, Val Loss: 0.0092\n"
          ]
        },
        {
          "name": "stderr",
          "output_type": "stream",
          "text": [
            "Epoch 5/100: 100%|██████████| 15/15 [00:00<00:00, 188.52it/s]\n"
          ]
        },
        {
          "name": "stdout",
          "output_type": "stream",
          "text": [
            "BiGRU+Attention Epoch 5/100, Train Loss: 0.0149, Val Loss: 0.0122\n"
          ]
        },
        {
          "name": "stderr",
          "output_type": "stream",
          "text": [
            "Epoch 6/100: 100%|██████████| 15/15 [00:00<00:00, 191.17it/s]\n"
          ]
        },
        {
          "name": "stdout",
          "output_type": "stream",
          "text": [
            "BiGRU+Attention Epoch 6/100, Train Loss: 0.0167, Val Loss: 0.0120\n"
          ]
        },
        {
          "name": "stderr",
          "output_type": "stream",
          "text": [
            "Epoch 7/100: 100%|██████████| 15/15 [00:00<00:00, 190.95it/s]\n"
          ]
        },
        {
          "name": "stdout",
          "output_type": "stream",
          "text": [
            "BiGRU+Attention Epoch 7/100, Train Loss: 0.0158, Val Loss: 0.0100\n"
          ]
        },
        {
          "name": "stderr",
          "output_type": "stream",
          "text": [
            "Epoch 8/100: 100%|██████████| 15/15 [00:00<00:00, 182.80it/s]\n"
          ]
        },
        {
          "name": "stdout",
          "output_type": "stream",
          "text": [
            "BiGRU+Attention Epoch 8/100, Train Loss: 0.0139, Val Loss: 0.0064\n"
          ]
        },
        {
          "name": "stderr",
          "output_type": "stream",
          "text": [
            "Epoch 9/100: 100%|██████████| 15/15 [00:00<00:00, 189.38it/s]\n"
          ]
        },
        {
          "name": "stdout",
          "output_type": "stream",
          "text": [
            "BiGRU+Attention Epoch 9/100, Train Loss: 0.0112, Val Loss: 0.0068\n"
          ]
        },
        {
          "name": "stderr",
          "output_type": "stream",
          "text": [
            "Epoch 10/100: 100%|██████████| 15/15 [00:00<00:00, 186.89it/s]\n"
          ]
        },
        {
          "name": "stdout",
          "output_type": "stream",
          "text": [
            "BiGRU+Attention Epoch 10/100, Train Loss: 0.0140, Val Loss: 0.0100\n"
          ]
        },
        {
          "name": "stderr",
          "output_type": "stream",
          "text": [
            "Epoch 11/100: 100%|██████████| 15/15 [00:00<00:00, 117.45it/s]\n"
          ]
        },
        {
          "name": "stdout",
          "output_type": "stream",
          "text": [
            "BiGRU+Attention Epoch 11/100, Train Loss: 0.0138, Val Loss: 0.0082\n"
          ]
        },
        {
          "name": "stderr",
          "output_type": "stream",
          "text": [
            "Epoch 12/100: 100%|██████████| 15/15 [00:00<00:00, 108.31it/s]\n"
          ]
        },
        {
          "name": "stdout",
          "output_type": "stream",
          "text": [
            "BiGRU+Attention Epoch 12/100, Train Loss: 0.0145, Val Loss: 0.0065\n"
          ]
        },
        {
          "name": "stderr",
          "output_type": "stream",
          "text": [
            "Epoch 13/100: 100%|██████████| 15/15 [00:00<00:00, 96.54it/s]\n"
          ]
        },
        {
          "name": "stdout",
          "output_type": "stream",
          "text": [
            "BiGRU+Attention Epoch 13/100, Train Loss: 0.0135, Val Loss: 0.0069\n"
          ]
        },
        {
          "name": "stderr",
          "output_type": "stream",
          "text": [
            "Epoch 14/100: 100%|██████████| 15/15 [00:00<00:00, 117.35it/s]\n"
          ]
        },
        {
          "name": "stdout",
          "output_type": "stream",
          "text": [
            "BiGRU+Attention Epoch 14/100, Train Loss: 0.0109, Val Loss: 0.0069\n"
          ]
        },
        {
          "name": "stderr",
          "output_type": "stream",
          "text": [
            "Epoch 15/100: 100%|██████████| 15/15 [00:00<00:00, 86.24it/s]\n"
          ]
        },
        {
          "name": "stdout",
          "output_type": "stream",
          "text": [
            "BiGRU+Attention Epoch 15/100, Train Loss: 0.0108, Val Loss: 0.0065\n"
          ]
        },
        {
          "name": "stderr",
          "output_type": "stream",
          "text": [
            "Epoch 16/100: 100%|██████████| 15/15 [00:00<00:00, 87.59it/s]"
          ]
        },
        {
          "name": "stdout",
          "output_type": "stream",
          "text": [
            "BiGRU+Attention Epoch 16/100, Train Loss: 0.0120, Val Loss: 0.0065"
          ]
        },
        {
          "name": "stderr",
          "output_type": "stream",
          "text": [
            "\n"
          ]
        },
        {
          "name": "stdout",
          "output_type": "stream",
          "text": [
            "\n"
          ]
        },
        {
          "name": "stderr",
          "output_type": "stream",
          "text": [
            "Epoch 17/100: 100%|██████████| 15/15 [00:00<00:00, 184.76it/s]\n"
          ]
        },
        {
          "name": "stdout",
          "output_type": "stream",
          "text": [
            "BiGRU+Attention Epoch 17/100, Train Loss: 0.0117, Val Loss: 0.0066\n"
          ]
        },
        {
          "name": "stderr",
          "output_type": "stream",
          "text": [
            "Epoch 18/100: 100%|██████████| 15/15 [00:00<00:00, 185.15it/s]\n"
          ]
        },
        {
          "name": "stdout",
          "output_type": "stream",
          "text": [
            "BiGRU+Attention Epoch 18/100, Train Loss: 0.0110, Val Loss: 0.0075\n",
            "Early stopping triggered.\n",
            "BiGRU+Attention Test RMSE: 92.4113, MAE: 69.9230, MAPE: 19969337196544.00%, R²: 0.9316\n"
          ]
        }
      ],
      "source": [
        "class BiGRUAttention(nn.Module):\n",
        "    def __init__(self, num_features, gru_units, num_heads, dropout_rate):\n",
        "        super(BiGRUAttention, self).__init__()\n",
        "        self.bigru = nn.GRU(num_features, gru_units, num_layers=2, bidirectional=True, batch_first=True)\n",
        "        self.ln = nn.LayerNorm(gru_units * 2)\n",
        "        self.attention = nn.MultiheadAttention(embed_dim=gru_units * 2, num_heads=num_heads, batch_first=True)\n",
        "        self.fc1 = nn.Linear(gru_units * 2, 64)\n",
        "        self.fc2 = nn.Linear(64, 1)\n",
        "        self.dropout = nn.Dropout(dropout_rate)\n",
        "        self.relu = nn.ReLU()\n",
        "\n",
        "    def forward(self, x):\n",
        "        x, _ = self.bigru(x)\n",
        "        x = self.ln(x)\n",
        "        attn_output, _ = self.attention(x, x, x)\n",
        "        x = attn_output[:, -1, :]\n",
        "        x = self.dropout(self.relu(self.fc1(x)))\n",
        "        x = self.fc2(x)\n",
        "        return x\n",
        "\n",
        "# Training\n",
        "model_bigru_attn = BiGRUAttention(num_features=num_features, gru_units=128, num_heads=4, dropout_rate=0.3).to(device)\n",
        "criterion = nn.MSELoss()\n",
        "optimizer = optim.Adam(model_bigru_attn.parameters(), lr=0.001)\n",
        "scheduler = optim.lr_scheduler.ReduceLROnPlateau(optimizer, mode='min', factor=0.5, patience=5)\n",
        "\n",
        "num_epochs = 100\n",
        "patience = 10\n",
        "best_val_loss = float('inf')\n",
        "patience_counter = 0\n",
        "train_losses = []\n",
        "val_losses = []\n",
        "\n",
        "for epoch in range(num_epochs):\n",
        "    model_bigru_attn.train()\n",
        "    train_loss = 0\n",
        "    for X_batch, y_batch in tqdm(train_loader, desc=f'Epoch {epoch+1}/{num_epochs}'):\n",
        "        X_batch, y_batch = X_batch.to(device), y_batch.to(device)\n",
        "        optimizer.zero_grad()\n",
        "        outputs = model_bigru_attn(X_batch)\n",
        "        loss = criterion(outputs, y_batch)\n",
        "        loss.backward()\n",
        "        torch.nn.utils.clip_grad_norm_(model_bigru_attn.parameters(), max_norm=1.0)\n",
        "        optimizer.step()\n",
        "        train_loss += loss.item()\n",
        "    train_loss /= len(train_loader)\n",
        "\n",
        "    model_bigru_attn.eval()\n",
        "    val_loss = 0\n",
        "    with torch.no_grad():\n",
        "        for X_batch, y_batch in val_loader:\n",
        "            X_batch, y_batch = X_batch.to(device), y_batch.to(device)\n",
        "            outputs = model_bigru_attn(X_batch)\n",
        "            val_loss += criterion(outputs, y_batch).item()\n",
        "    val_loss /= len(val_loader)\n",
        "\n",
        "    train_losses.append(train_loss)\n",
        "    val_losses.append(val_loss)\n",
        "    scheduler.step(val_loss)\n",
        "\n",
        "    print(f\"BiGRU+Attention Epoch {epoch+1}/{num_epochs}, Train Loss: {train_loss:.4f}, Val Loss: {val_loss:.4f}\")\n",
        "\n",
        "    if val_loss < best_val_loss:\n",
        "        best_val_loss = val_loss\n",
        "        patience_counter = 0\n",
        "    else:\n",
        "        patience_counter += 1\n",
        "        if patience_counter >= patience:\n",
        "            print(\"Early stopping triggered.\")\n",
        "            break\n",
        "\n",
        "# Evaluate\n",
        "model_bigru_attn.eval()\n",
        "y_true, y_pred = [], []\n",
        "with torch.no_grad():\n",
        "    for X_batch, y_batch in test_loader:\n",
        "        X_batch, y_batch = X_batch.to(device), y_batch.to(device)\n",
        "        outputs = model_bigru_attn(X_batch)\n",
        "        y_true.extend(y_batch.cpu().numpy())\n",
        "        y_pred.extend(outputs.cpu().numpy())\n",
        "y_true = np.array(y_true).flatten()\n",
        "y_pred = np.array(y_pred).flatten()\n",
        "\n",
        "y_true = scalers['power'].inverse_transform(y_true.reshape(-1, 1)).flatten()\n",
        "y_pred = scalers['power'].inverse_transform(y_pred.reshape(-1, 1)).flatten()\n",
        "\n",
        "rmse_bigru_attn, mae_bigru_attn, mape_bigru_attn, r2_bigru_attn = compute_metrics(y_true, y_pred)\n",
        "print(f\"BiGRU+Attention Test RMSE: {rmse_bigru_attn:.4f}, MAE: {mae_bigru_attn:.4f}, MAPE: {mape_bigru_attn:.2f}%, R²: {r2_bigru_attn:.4f}\")\n",
        "\n",
        "# Save results\n",
        "results_dir = f'results_bigru_attn_{datetime.datetime.now().strftime(\"%Y%m%d_%H%M%S\")}'\n",
        "os.makedirs(results_dir, exist_ok=True)\n",
        "pd.DataFrame({'Actual': y_true, 'Predicted': y_pred}).to_csv(f'{results_dir}/bigru_attn_predictions.csv')\n",
        "np.save(f'{results_dir}/bigru_attn_metrics.npy', {'rmse': rmse_bigru_attn, 'mae': mae_bigru_attn, 'mape': mape_bigru_attn, 'r2': r2_bigru_attn})"
      ]
    },
    {
      "cell_type": "code",
      "execution_count": 16,
      "metadata": {
        "colab": {
          "base_uri": "https://localhost:8080/"
        },
        "id": "b6quwCOK2nHD",
        "outputId": "693eac25-50aa-4635-b92c-f9fe412b1a2e"
      },
      "outputs": [
        {
          "name": "stderr",
          "output_type": "stream",
          "text": [
            "Epoch 1/100: 100%|██████████| 15/15 [00:00<00:00, 18.33it/s]\n"
          ]
        },
        {
          "name": "stdout",
          "output_type": "stream",
          "text": [
            "CNN+LSTM+Attention Epoch 1/100, Train Loss: 0.1084, Val Loss: 0.0903\n"
          ]
        },
        {
          "name": "stderr",
          "output_type": "stream",
          "text": [
            "Epoch 2/100: 100%|██████████| 15/15 [00:00<00:00, 177.26it/s]\n"
          ]
        },
        {
          "name": "stdout",
          "output_type": "stream",
          "text": [
            "CNN+LSTM+Attention Epoch 2/100, Train Loss: 0.0988, Val Loss: 0.0939\n"
          ]
        },
        {
          "name": "stderr",
          "output_type": "stream",
          "text": [
            "Epoch 3/100: 100%|██████████| 15/15 [00:00<00:00, 173.81it/s]\n"
          ]
        },
        {
          "name": "stdout",
          "output_type": "stream",
          "text": [
            "CNN+LSTM+Attention Epoch 3/100, Train Loss: 0.0596, Val Loss: 0.0128\n"
          ]
        },
        {
          "name": "stderr",
          "output_type": "stream",
          "text": [
            "Epoch 4/100: 100%|██████████| 15/15 [00:00<00:00, 161.58it/s]\n"
          ]
        },
        {
          "name": "stdout",
          "output_type": "stream",
          "text": [
            "CNN+LSTM+Attention Epoch 4/100, Train Loss: 0.0224, Val Loss: 0.0122\n"
          ]
        },
        {
          "name": "stderr",
          "output_type": "stream",
          "text": [
            "Epoch 5/100: 100%|██████████| 15/15 [00:00<00:00, 167.40it/s]\n"
          ]
        },
        {
          "name": "stdout",
          "output_type": "stream",
          "text": [
            "CNN+LSTM+Attention Epoch 5/100, Train Loss: 0.0160, Val Loss: 0.0098\n"
          ]
        },
        {
          "name": "stderr",
          "output_type": "stream",
          "text": [
            "Epoch 6/100: 100%|██████████| 15/15 [00:00<00:00, 173.34it/s]\n"
          ]
        },
        {
          "name": "stdout",
          "output_type": "stream",
          "text": [
            "CNN+LSTM+Attention Epoch 6/100, Train Loss: 0.0121, Val Loss: 0.0078\n"
          ]
        },
        {
          "name": "stderr",
          "output_type": "stream",
          "text": [
            "Epoch 7/100: 100%|██████████| 15/15 [00:00<00:00, 176.76it/s]\n"
          ]
        },
        {
          "name": "stdout",
          "output_type": "stream",
          "text": [
            "CNN+LSTM+Attention Epoch 7/100, Train Loss: 0.0138, Val Loss: 0.0073\n"
          ]
        },
        {
          "name": "stderr",
          "output_type": "stream",
          "text": [
            "Epoch 8/100: 100%|██████████| 15/15 [00:00<00:00, 154.24it/s]\n"
          ]
        },
        {
          "name": "stdout",
          "output_type": "stream",
          "text": [
            "CNN+LSTM+Attention Epoch 8/100, Train Loss: 0.0114, Val Loss: 0.0069\n"
          ]
        },
        {
          "name": "stderr",
          "output_type": "stream",
          "text": [
            "Epoch 9/100: 100%|██████████| 15/15 [00:00<00:00, 168.84it/s]\n"
          ]
        },
        {
          "name": "stdout",
          "output_type": "stream",
          "text": [
            "CNN+LSTM+Attention Epoch 9/100, Train Loss: 0.0109, Val Loss: 0.0067\n"
          ]
        },
        {
          "name": "stderr",
          "output_type": "stream",
          "text": [
            "Epoch 10/100: 100%|██████████| 15/15 [00:00<00:00, 179.86it/s]\n"
          ]
        },
        {
          "name": "stdout",
          "output_type": "stream",
          "text": [
            "CNN+LSTM+Attention Epoch 10/100, Train Loss: 0.0108, Val Loss: 0.0081\n"
          ]
        },
        {
          "name": "stderr",
          "output_type": "stream",
          "text": [
            "Epoch 11/100: 100%|██████████| 15/15 [00:00<00:00, 179.52it/s]\n"
          ]
        },
        {
          "name": "stdout",
          "output_type": "stream",
          "text": [
            "CNN+LSTM+Attention Epoch 11/100, Train Loss: 0.0119, Val Loss: 0.0130\n"
          ]
        },
        {
          "name": "stderr",
          "output_type": "stream",
          "text": [
            "Epoch 12/100: 100%|██████████| 15/15 [00:00<00:00, 177.08it/s]\n"
          ]
        },
        {
          "name": "stdout",
          "output_type": "stream",
          "text": [
            "CNN+LSTM+Attention Epoch 12/100, Train Loss: 0.0143, Val Loss: 0.0092\n"
          ]
        },
        {
          "name": "stderr",
          "output_type": "stream",
          "text": [
            "Epoch 13/100: 100%|██████████| 15/15 [00:00<00:00, 166.23it/s]\n"
          ]
        },
        {
          "name": "stdout",
          "output_type": "stream",
          "text": [
            "CNN+LSTM+Attention Epoch 13/100, Train Loss: 0.0112, Val Loss: 0.0078\n"
          ]
        },
        {
          "name": "stderr",
          "output_type": "stream",
          "text": [
            "Epoch 14/100: 100%|██████████| 15/15 [00:00<00:00, 164.55it/s]\n"
          ]
        },
        {
          "name": "stdout",
          "output_type": "stream",
          "text": [
            "CNN+LSTM+Attention Epoch 14/100, Train Loss: 0.0135, Val Loss: 0.0075\n"
          ]
        },
        {
          "name": "stderr",
          "output_type": "stream",
          "text": [
            "Epoch 15/100: 100%|██████████| 15/15 [00:00<00:00, 157.47it/s]\n"
          ]
        },
        {
          "name": "stdout",
          "output_type": "stream",
          "text": [
            "CNN+LSTM+Attention Epoch 15/100, Train Loss: 0.0134, Val Loss: 0.0084\n"
          ]
        },
        {
          "name": "stderr",
          "output_type": "stream",
          "text": [
            "Epoch 16/100: 100%|██████████| 15/15 [00:00<00:00, 177.52it/s]\n"
          ]
        },
        {
          "name": "stdout",
          "output_type": "stream",
          "text": [
            "CNN+LSTM+Attention Epoch 16/100, Train Loss: 0.0093, Val Loss: 0.0063\n"
          ]
        },
        {
          "name": "stderr",
          "output_type": "stream",
          "text": [
            "Epoch 17/100: 100%|██████████| 15/15 [00:00<00:00, 177.18it/s]\n"
          ]
        },
        {
          "name": "stdout",
          "output_type": "stream",
          "text": [
            "CNN+LSTM+Attention Epoch 17/100, Train Loss: 0.0106, Val Loss: 0.0063\n"
          ]
        },
        {
          "name": "stderr",
          "output_type": "stream",
          "text": [
            "Epoch 18/100: 100%|██████████| 15/15 [00:00<00:00, 170.92it/s]\n"
          ]
        },
        {
          "name": "stdout",
          "output_type": "stream",
          "text": [
            "CNN+LSTM+Attention Epoch 18/100, Train Loss: 0.0086, Val Loss: 0.0066\n"
          ]
        },
        {
          "name": "stderr",
          "output_type": "stream",
          "text": [
            "Epoch 19/100: 100%|██████████| 15/15 [00:00<00:00, 172.34it/s]\n"
          ]
        },
        {
          "name": "stdout",
          "output_type": "stream",
          "text": [
            "CNN+LSTM+Attention Epoch 19/100, Train Loss: 0.0086, Val Loss: 0.0063\n"
          ]
        },
        {
          "name": "stderr",
          "output_type": "stream",
          "text": [
            "Epoch 20/100: 100%|██████████| 15/15 [00:00<00:00, 177.55it/s]\n"
          ]
        },
        {
          "name": "stdout",
          "output_type": "stream",
          "text": [
            "CNN+LSTM+Attention Epoch 20/100, Train Loss: 0.0102, Val Loss: 0.0070\n"
          ]
        },
        {
          "name": "stderr",
          "output_type": "stream",
          "text": [
            "Epoch 21/100: 100%|██████████| 15/15 [00:00<00:00, 176.49it/s]\n"
          ]
        },
        {
          "name": "stdout",
          "output_type": "stream",
          "text": [
            "CNN+LSTM+Attention Epoch 21/100, Train Loss: 0.0081, Val Loss: 0.0063\n"
          ]
        },
        {
          "name": "stderr",
          "output_type": "stream",
          "text": [
            "Epoch 22/100: 100%|██████████| 15/15 [00:00<00:00, 170.41it/s]\n"
          ]
        },
        {
          "name": "stdout",
          "output_type": "stream",
          "text": [
            "CNN+LSTM+Attention Epoch 22/100, Train Loss: 0.0087, Val Loss: 0.0061\n"
          ]
        },
        {
          "name": "stderr",
          "output_type": "stream",
          "text": [
            "Epoch 23/100: 100%|██████████| 15/15 [00:00<00:00, 172.74it/s]\n"
          ]
        },
        {
          "name": "stdout",
          "output_type": "stream",
          "text": [
            "CNN+LSTM+Attention Epoch 23/100, Train Loss: 0.0081, Val Loss: 0.0057\n"
          ]
        },
        {
          "name": "stderr",
          "output_type": "stream",
          "text": [
            "Epoch 24/100: 100%|██████████| 15/15 [00:00<00:00, 172.11it/s]\n"
          ]
        },
        {
          "name": "stdout",
          "output_type": "stream",
          "text": [
            "CNN+LSTM+Attention Epoch 24/100, Train Loss: 0.0080, Val Loss: 0.0059\n"
          ]
        },
        {
          "name": "stderr",
          "output_type": "stream",
          "text": [
            "Epoch 25/100: 100%|██████████| 15/15 [00:00<00:00, 156.47it/s]\n"
          ]
        },
        {
          "name": "stdout",
          "output_type": "stream",
          "text": [
            "CNN+LSTM+Attention Epoch 25/100, Train Loss: 0.0074, Val Loss: 0.0061\n"
          ]
        },
        {
          "name": "stderr",
          "output_type": "stream",
          "text": [
            "Epoch 26/100: 100%|██████████| 15/15 [00:00<00:00, 175.63it/s]\n"
          ]
        },
        {
          "name": "stdout",
          "output_type": "stream",
          "text": [
            "CNN+LSTM+Attention Epoch 26/100, Train Loss: 0.0079, Val Loss: 0.0059\n"
          ]
        },
        {
          "name": "stderr",
          "output_type": "stream",
          "text": [
            "Epoch 27/100: 100%|██████████| 15/15 [00:00<00:00, 176.40it/s]\n"
          ]
        },
        {
          "name": "stdout",
          "output_type": "stream",
          "text": [
            "CNN+LSTM+Attention Epoch 27/100, Train Loss: 0.0091, Val Loss: 0.0057\n"
          ]
        },
        {
          "name": "stderr",
          "output_type": "stream",
          "text": [
            "Epoch 28/100: 100%|██████████| 15/15 [00:00<00:00, 167.20it/s]\n"
          ]
        },
        {
          "name": "stdout",
          "output_type": "stream",
          "text": [
            "CNN+LSTM+Attention Epoch 28/100, Train Loss: 0.0080, Val Loss: 0.0068\n"
          ]
        },
        {
          "name": "stderr",
          "output_type": "stream",
          "text": [
            "Epoch 29/100: 100%|██████████| 15/15 [00:00<00:00, 175.26it/s]\n"
          ]
        },
        {
          "name": "stdout",
          "output_type": "stream",
          "text": [
            "CNN+LSTM+Attention Epoch 29/100, Train Loss: 0.0080, Val Loss: 0.0061\n"
          ]
        },
        {
          "name": "stderr",
          "output_type": "stream",
          "text": [
            "Epoch 30/100: 100%|██████████| 15/15 [00:00<00:00, 180.58it/s]\n"
          ]
        },
        {
          "name": "stdout",
          "output_type": "stream",
          "text": [
            "CNN+LSTM+Attention Epoch 30/100, Train Loss: 0.0076, Val Loss: 0.0057\n"
          ]
        },
        {
          "name": "stderr",
          "output_type": "stream",
          "text": [
            "Epoch 31/100: 100%|██████████| 15/15 [00:00<00:00, 172.39it/s]\n"
          ]
        },
        {
          "name": "stdout",
          "output_type": "stream",
          "text": [
            "CNN+LSTM+Attention Epoch 31/100, Train Loss: 0.0082, Val Loss: 0.0058\n"
          ]
        },
        {
          "name": "stderr",
          "output_type": "stream",
          "text": [
            "Epoch 32/100: 100%|██████████| 15/15 [00:00<00:00, 177.03it/s]\n"
          ]
        },
        {
          "name": "stdout",
          "output_type": "stream",
          "text": [
            "CNN+LSTM+Attention Epoch 32/100, Train Loss: 0.0077, Val Loss: 0.0057\n"
          ]
        },
        {
          "name": "stderr",
          "output_type": "stream",
          "text": [
            "Epoch 33/100: 100%|██████████| 15/15 [00:00<00:00, 177.25it/s]\n"
          ]
        },
        {
          "name": "stdout",
          "output_type": "stream",
          "text": [
            "CNN+LSTM+Attention Epoch 33/100, Train Loss: 0.0075, Val Loss: 0.0060\n"
          ]
        },
        {
          "name": "stderr",
          "output_type": "stream",
          "text": [
            "Epoch 34/100: 100%|██████████| 15/15 [00:00<00:00, 176.79it/s]\n"
          ]
        },
        {
          "name": "stdout",
          "output_type": "stream",
          "text": [
            "CNN+LSTM+Attention Epoch 34/100, Train Loss: 0.0074, Val Loss: 0.0061\n"
          ]
        },
        {
          "name": "stderr",
          "output_type": "stream",
          "text": [
            "Epoch 35/100: 100%|██████████| 15/15 [00:00<00:00, 160.66it/s]\n"
          ]
        },
        {
          "name": "stdout",
          "output_type": "stream",
          "text": [
            "CNN+LSTM+Attention Epoch 35/100, Train Loss: 0.0078, Val Loss: 0.0057\n"
          ]
        },
        {
          "name": "stderr",
          "output_type": "stream",
          "text": [
            "Epoch 36/100: 100%|██████████| 15/15 [00:00<00:00, 181.18it/s]\n"
          ]
        },
        {
          "name": "stdout",
          "output_type": "stream",
          "text": [
            "CNN+LSTM+Attention Epoch 36/100, Train Loss: 0.0071, Val Loss: 0.0059\n"
          ]
        },
        {
          "name": "stderr",
          "output_type": "stream",
          "text": [
            "Epoch 37/100: 100%|██████████| 15/15 [00:00<00:00, 179.56it/s]\n"
          ]
        },
        {
          "name": "stdout",
          "output_type": "stream",
          "text": [
            "CNN+LSTM+Attention Epoch 37/100, Train Loss: 0.0074, Val Loss: 0.0059\n"
          ]
        },
        {
          "name": "stderr",
          "output_type": "stream",
          "text": [
            "Epoch 38/100: 100%|██████████| 15/15 [00:00<00:00, 174.16it/s]\n"
          ]
        },
        {
          "name": "stdout",
          "output_type": "stream",
          "text": [
            "CNN+LSTM+Attention Epoch 38/100, Train Loss: 0.0074, Val Loss: 0.0057\n"
          ]
        },
        {
          "name": "stderr",
          "output_type": "stream",
          "text": [
            "Epoch 39/100: 100%|██████████| 15/15 [00:00<00:00, 171.03it/s]\n"
          ]
        },
        {
          "name": "stdout",
          "output_type": "stream",
          "text": [
            "CNN+LSTM+Attention Epoch 39/100, Train Loss: 0.0074, Val Loss: 0.0057\n"
          ]
        },
        {
          "name": "stderr",
          "output_type": "stream",
          "text": [
            "Epoch 40/100: 100%|██████████| 15/15 [00:00<00:00, 176.64it/s]\n"
          ]
        },
        {
          "name": "stdout",
          "output_type": "stream",
          "text": [
            "CNN+LSTM+Attention Epoch 40/100, Train Loss: 0.0065, Val Loss: 0.0057\n",
            "Early stopping triggered.\n",
            "CNN+LSTM+Attention Test RMSE: 94.3655, MAE: 56.2106, MAPE: 4365979222016.00%, R²: 0.9287\n"
          ]
        }
      ],
      "source": [
        "class CNNLSTMAttention(nn.Module):\n",
        "    def __init__(self, num_features, lstm_units, num_heads, dropout_rate):\n",
        "        super(CNNLSTMAttention, self).__init__()\n",
        "        self.conv1 = nn.Conv1d(in_channels=num_features, out_channels=64, kernel_size=3, padding=1)\n",
        "        self.conv2 = nn.Conv1d(in_channels=64, out_channels=32, kernel_size=3, padding=1)\n",
        "        self.lstm = nn.LSTM(32, lstm_units, num_layers=2, batch_first=True)\n",
        "        self.ln = nn.LayerNorm(lstm_units)\n",
        "        self.attention = nn.MultiheadAttention(embed_dim=lstm_units, num_heads=num_heads, batch_first=True)\n",
        "        self.fc1 = nn.Linear(lstm_units, 64)\n",
        "        self.fc2 = nn.Linear(64, 1)\n",
        "        self.dropout = nn.Dropout(dropout_rate)\n",
        "        self.relu = nn.ReLU()\n",
        "\n",
        "    def forward(self, x):\n",
        "        x = x.permute(0, 2, 1)\n",
        "        x = self.relu(self.conv1(x))\n",
        "        x = self.relu(self.conv2(x))\n",
        "        x = x.permute(0, 2, 1)\n",
        "        x, _ = self.lstm(x)\n",
        "        x = self.ln(x)\n",
        "        attn_output, _ = self.attention(x, x, x)\n",
        "        x = attn_output[:, -1, :]\n",
        "        x = self.dropout(self.relu(self.fc1(x)))\n",
        "        x = self.fc2(x)\n",
        "        return x\n",
        "\n",
        "# Training\n",
        "model_cnn_lstm = CNNLSTMAttention(num_features=num_features, lstm_units=64, num_heads=4, dropout_rate=0.3).to(device)\n",
        "criterion = nn.MSELoss()\n",
        "optimizer = optim.Adam(model_cnn_lstm.parameters(), lr=0.001)\n",
        "scheduler = optim.lr_scheduler.ReduceLROnPlateau(optimizer, mode='min', factor=0.5, patience=5)\n",
        "\n",
        "num_epochs = 100\n",
        "patience = 10\n",
        "best_val_loss = float('inf')\n",
        "patience_counter = 0\n",
        "train_losses = []\n",
        "val_losses = []\n",
        "\n",
        "for epoch in range(num_epochs):\n",
        "    model_cnn_lstm.train()\n",
        "    train_loss = 0\n",
        "    for X_batch, y_batch in tqdm(train_loader, desc=f'Epoch {epoch+1}/{num_epochs}'):\n",
        "        X_batch, y_batch = X_batch.to(device), y_batch.to(device)\n",
        "        optimizer.zero_grad()\n",
        "        outputs = model_cnn_lstm(X_batch)\n",
        "        loss = criterion(outputs, y_batch)\n",
        "        loss.backward()\n",
        "        torch.nn.utils.clip_grad_norm_(model_cnn_lstm.parameters(), max_norm=1.0)\n",
        "        optimizer.step()\n",
        "        train_loss += loss.item()\n",
        "    train_loss /= len(train_loader)\n",
        "\n",
        "    model_cnn_lstm.eval()\n",
        "    val_loss = 0\n",
        "    with torch.no_grad():\n",
        "        for X_batch, y_batch in val_loader:\n",
        "            X_batch, y_batch = X_batch.to(device), y_batch.to(device)\n",
        "            outputs = model_cnn_lstm(X_batch)\n",
        "            val_loss += criterion(outputs, y_batch).item()\n",
        "    val_loss /= len(val_loader)\n",
        "\n",
        "    train_losses.append(train_loss)\n",
        "    val_losses.append(val_loss)\n",
        "    scheduler.step(val_loss)\n",
        "\n",
        "    print(f\"CNN+LSTM+Attention Epoch {epoch+1}/{num_epochs}, Train Loss: {train_loss:.4f}, Val Loss: {val_loss:.4f}\")\n",
        "\n",
        "    if val_loss < best_val_loss:\n",
        "        best_val_loss = val_loss\n",
        "        patience_counter = 0\n",
        "    else:\n",
        "        patience_counter += 1\n",
        "        if patience_counter >= patience:\n",
        "            print(\"Early stopping triggered.\")\n",
        "            break\n",
        "\n",
        "# Evaluate\n",
        "model_cnn_lstm.eval()\n",
        "y_true, y_pred = [], []\n",
        "with torch.no_grad():\n",
        "    for X_batch, y_batch in test_loader:\n",
        "        X_batch, y_batch = X_batch.to(device), y_batch.to(device)\n",
        "        outputs = model_cnn_lstm(X_batch)\n",
        "        y_true.extend(y_batch.cpu().numpy())\n",
        "        y_pred.extend(outputs.cpu().numpy())\n",
        "y_true = np.array(y_true).flatten()\n",
        "y_pred = np.array(y_pred).flatten()\n",
        "\n",
        "y_true = scalers['power'].inverse_transform(y_true.reshape(-1, 1)).flatten()\n",
        "y_pred = scalers['power'].inverse_transform(y_pred.reshape(-1, 1)).flatten()\n",
        "\n",
        "rmse_cnn_lstm, mae_cnn_lstm, mape_cnn_lstm, r2_cnn_lstm = compute_metrics(y_true, y_pred)\n",
        "print(f\"CNN+LSTM+Attention Test RMSE: {rmse_cnn_lstm:.4f}, MAE: {mae_cnn_lstm:.4f}, MAPE: {mape_cnn_lstm:.2f}%, R²: {r2_cnn_lstm:.4f}\")\n",
        "\n",
        "# Save results\n",
        "results_dir = f'results_cnn_lstm_{datetime.datetime.now().strftime(\"%Y%m%d_%H%M%S\")}'\n",
        "os.makedirs(results_dir, exist_ok=True)\n",
        "pd.DataFrame({'Actual': y_true, 'Predicted': y_pred}).to_csv(f'{results_dir}/cnn_lstm_predictions.csv')\n",
        "np.save(f'{results_dir}/cnn_lstm_metrics.npy', {'rmse': rmse_cnn_lstm, 'mae': mae_cnn_lstm, 'mape': mape_cnn_lstm, 'r2': r2_cnn_lstm})"
      ]
    },
    {
      "cell_type": "code",
      "execution_count": null,
      "metadata": {
        "colab": {
          "base_uri": "https://localhost:8080/"
        },
        "id": "XhWacUk26ySG",
        "outputId": "4089932c-76b7-42a5-efb6-4a32cf4f6fdb"
      },
      "outputs": [
        {
          "name": "stderr",
          "output_type": "stream",
          "text": [
            "CPO Optimization:   0%|          | 0/15 [03:26<?, ?iter/s]"
          ]
        },
        {
          "name": "stdout",
          "output_type": "stream",
          "text": [
            "Significant improvement: 0.09127, Parameters: gru=418, heads=11, dropout=0.36, lr=1.010008\n"
          ]
        },
        {
          "name": "stderr",
          "output_type": "stream",
          "text": [
            "<ipython-input-5-cadd8ffdf542>:218: RuntimeWarning: invalid value encountered in scalar divide\n",
            "  improvement = abs((Gb_Fit - last_best_fit) / (last_best_fit + 1e-10))\n",
            "CPO Optimization:  60%|██████    | 9/15 [40:30<27:01, 270.22s/iter, Best Fitness=0.0913, gru=88, heads=4, dropout=0.41, lr=1.008639]"
          ]
        }
      ],
      "source": [
        "class CPO_LSTM_Attention(nn.Module):\n",
        "    def __init__(self, num_features, lstm_units, num_heads, dropout_rate):\n",
        "        super(CPO_LSTM_Attention, self).__init__()\n",
        "        self.lstm = nn.LSTM(num_features, lstm_units, num_layers=2, batch_first=True)\n",
        "        self.ln = nn.LayerNorm(lstm_units)\n",
        "        self.attention = nn.MultiheadAttention(embed_dim=lstm_units, num_heads=num_heads, batch_first=True)\n",
        "        self.fc1 = nn.Linear(lstm_units, 64)\n",
        "        self.fc2 = nn.Linear(64, 1)\n",
        "        self.dropout = nn.Dropout(dropout_rate)\n",
        "        self.relu = nn.ReLU()\n",
        "\n",
        "    def forward(self, x):\n",
        "        x, _ = self.lstm(x)\n",
        "        x = self.ln(x)\n",
        "        attn_output, _ = self.attention(x, x, x)\n",
        "        x = attn_output[:, -1, :]\n",
        "        x = self.dropout(self.relu(self.fc1(x)))\n",
        "        x = self.fc2(x)\n",
        "        return x\n",
        "\n",
        "def fobj_lstm(params):\n",
        "    if np.any(np.isnan(params)):\n",
        "        return np.inf\n",
        "    lstm_units = int(params[0])\n",
        "    num_heads = int(params[1])\n",
        "    dropout_rate = params[2]\n",
        "    learning_rate = params[3]\n",
        "    if lstm_units % num_heads != 0:\n",
        "        return float('inf')\n",
        "\n",
        "    model = CPO_LSTM_Attention(num_features, lstm_units, num_heads, dropout_rate).to(device)\n",
        "    criterion = nn.MSELoss()\n",
        "    optimizer = optim.Adam(model.parameters(), lr=learning_rate)\n",
        "    scheduler = optim.lr_scheduler.ReduceLROnPlateau(optimizer, mode='min', factor=0.5, patience=2)\n",
        "\n",
        "    num_epochs = 20\n",
        "    best_val_loss = float('inf')\n",
        "    patience = 3\n",
        "    patience_counter = 0\n",
        "\n",
        "    for epoch in range(num_epochs):\n",
        "        model.train()\n",
        "        for X_batch, y_batch in train_loader:\n",
        "            X_batch, y_batch = X_batch.to(device), y_batch.to(device)\n",
        "            optimizer.zero_grad()\n",
        "            outputs = model(X_batch)\n",
        "            loss = criterion(outputs, y_batch)\n",
        "            loss.backward()\n",
        "            torch.nn.utils.clip_grad_norm_(model.parameters(), max_norm=1.0)\n",
        "            optimizer.step()\n",
        "\n",
        "        model.eval()\n",
        "        val_loss = 0\n",
        "        with torch.no_grad():\n",
        "            for X_batch, y_batch in val_loader:\n",
        "                X_batch, y_batch = X_batch.to(device), y_batch.to(device)\n",
        "                outputs = model(X_batch)\n",
        "                val_loss += criterion(outputs, y_batch).item()\n",
        "        val_loss /= len(val_loader)\n",
        "        scheduler.step(val_loss)\n",
        "\n",
        "        if val_loss < best_val_loss:\n",
        "            best_val_loss = val_loss\n",
        "            patience_counter = 0\n",
        "        else:\n",
        "            patience_counter += 1\n",
        "            if patience_counter >= patience:\n",
        "                break\n",
        "\n",
        "    return best_val_loss\n",
        "\n",
        "# CPO optimization\n",
        "Pop_size = 15\n",
        "Tmax = 15\n",
        "dim = 4\n",
        "lb = [64, 2, 0.1, 0.0005]\n",
        "ub = [512, 16, 0.5, 0.01]\n",
        "best_fit, best_sol, conv_curve = CPO(Pop_size, Tmax, lb, ub, dim, fobj_lstm)\n",
        "clear_output(wait=True)\n",
        "\n",
        "if np.any(np.isnan(best_sol)):\n",
        "    print(\"Warning: CPO returned NaN values. Using default parameters.\")\n",
        "    best_sol = [256, 8, 0.3, 0.001]\n",
        "\n",
        "# Train final model\n",
        "model_cpo_lstm = CPO_LSTM_Attention(num_features=num_features, lstm_units=int(best_sol[0]), num_heads=int(best_sol[1]),\n",
        "                                    dropout_rate=best_sol[2]).to(device)\n",
        "criterion = nn.MSELoss()\n",
        "optimizer = optim.Adam(model_cpo_lstm.parameters(), lr=best_sol[3])\n",
        "scheduler = optim.lr_scheduler.ReduceLROnPlateau(optimizer, mode='min', factor=0.5, patience=5)\n",
        "\n",
        "num_epochs = 100\n",
        "patience = 10\n",
        "best_val_loss = float('inf')\n",
        "patience_counter = 0\n",
        "train_losses = []\n",
        "val_losses = []\n",
        "\n",
        "for epoch in range(num_epochs):\n",
        "    model_cpo_lstm.train()\n",
        "    train_loss = 0\n",
        "    for X_batch, y_batch in tqdm(train_loader, desc=f'Epoch {epoch+1}/{num_epochs}'):\n",
        "        X_batch, y_batch = X_batch.to(device), y_batch.to(device)\n",
        "        optimizer.zero_grad()\n",
        "        outputs = model_cpo_lstm(X_batch)\n",
        "        loss = criterion(outputs, y_batch)\n",
        "        loss.backward()\n",
        "        torch.nn.utils.clip_grad_norm_(model_cpo_lstm.parameters(), max_norm=1.0)\n",
        "        optimizer.step()\n",
        "        train_loss += loss.item()\n",
        "    train_loss /= len(train_loader)\n",
        "\n",
        "    model_cpo_lstm.eval()\n",
        "    val_loss = 0\n",
        "    with torch.no_grad():\n",
        "        for X_batch, y_batch in val_loader:\n",
        "            X_batch, y_batch = X_batch.to(device), y_batch.to(device)\n",
        "            outputs = model_cpo_lstm(X_batch)\n",
        "            val_loss += criterion(outputs, y_batch).item()\n",
        "    val_loss /= len(val_loader)\n",
        "\n",
        "    train_losses.append(train_loss)\n",
        "    val_losses.append(val_loss)\n",
        "    scheduler.step(val_loss)\n",
        "\n",
        "    print(f\"CPO+LSTM+Attention Epoch {epoch+1}/{num_epochs}, Train Loss: {train_loss:.4f}, Val Loss: {val_loss:.4f}\")\n",
        "\n",
        "    if val_loss < best_val_loss:\n",
        "        best_val_loss = val_loss\n",
        "        patience_counter = 0\n",
        "    else:\n",
        "        patience_counter += 1\n",
        "        if patience_counter >= patience:\n",
        "            print(\"Early stopping triggered.\")\n",
        "            break\n",
        "\n",
        "# Evaluate\n",
        "model_cpo_lstm.eval()\n",
        "y_true, y_pred = [], []\n",
        "with torch.no_grad():\n",
        "    for X_batch, y_batch in test_loader:\n",
        "        X_batch, y_batch = X_batch.to(device), y_batch.to(device)\n",
        "        outputs = model_cpo_lstm(X_batch)\n",
        "        y_true.extend(y_batch.cpu().numpy())\n",
        "        y_pred.extend(outputs.cpu().numpy())\n",
        "y_true = np.array(y_true).flatten()\n",
        "y_pred = np.array(y_pred).flatten()\n",
        "\n",
        "y_true = scalers['power'].inverse_transform(y_true.reshape(-1, 1)).flatten()\n",
        "y_pred = scalers['power'].inverse_transform(y_pred.reshape(-1, 1)).flatten()\n",
        "\n",
        "rmse_cpo_lstm, mae_cpo_lstm, mape_cpo_lstm, r2_cpo_lstm = compute_metrics(y_true, y_pred)\n",
        "print(f\"CPO+LSTM+Attention Test RMSE: {rmse_cpo_lstm:.4f}, MAE: {mae_cpo_lstm:.4f}, MAPE: {mape_cpo_lstm:.2f}%, R²: {r2_cpo_lstm:.4f}\")\n",
        "\n",
        "# Save results\n",
        "results_dir = f'results_cpo_lstm_{datetime.datetime.now().strftime(\"%Y%m%d_%H%M%S\")}'\n",
        "os.makedirs(results_dir, exist_ok=True)\n",
        "pd.DataFrame({'Actual': y_true, 'Predicted': y_pred}).to_csv(f'{results_dir}/cpo_lstm_predictions.csv')\n",
        "np.save(f'{results_dir}/cpo_lstm_metrics.npy', {'rmse': rmse_cpo_lstm, 'mae': mae_cpo_lstm, 'mape': mape_cpo_lstm, 'r2': r2_cpo_lstm})"
      ]
    },
    {
      "cell_type": "code",
      "execution_count": null,
      "metadata": {
        "id": "-6n85xdy7O0o"
      },
      "outputs": [],
      "source": [
        "metrics_hybrid = {\n",
        "    'Model': 'CPO+BiGRU+Attention',\n",
        "    'RMSE': rmse,\n",
        "    'MAE': mae,\n",
        "    'MAPE (%)': mape,\n",
        "    'R²': r2\n",
        "}\n",
        "\n",
        "metrics_bigru = {\n",
        "    'Model': 'BiGRU',\n",
        "    'RMSE': rmse_bigru,\n",
        "    'MAE': mae_bigru,\n",
        "    'MAPE (%)': mape_bigru,\n",
        "    'R²': r2_bigru\n",
        "}\n",
        "\n",
        "metrics_bigru_attn = {\n",
        "    'Model': 'BiGRU+Attention',\n",
        "    'RMSE': rmse_bigru_attn,\n",
        "    'MAE': mae_bigru_attn,\n",
        "    'MAPE (%)': mape_bigru_attn,\n",
        "    'R²': r2_bigru_attn\n",
        "}\n",
        "\n",
        "metrics_cpo_lstm = {\n",
        "    'Model': 'CPO+LSTM+Attention',\n",
        "    'RMSE': rmse_cpo_lstm,\n",
        "    'MAE': mae_cpo_lstm,\n",
        "    'MAPE (%)': mape_cpo_lstm,\n",
        "    'R²': r2_cpo_lstm\n",
        "}\n",
        "\n",
        "metrics_cnn_lstm = {\n",
        "    'Model': 'CNN+LSTM+Attention',\n",
        "    'RMSE': rmse_cnn_lstm,\n",
        "    'MAE': mae_cnn_lstm,\n",
        "    'MAPE (%)': mape_cnn_lstm,\n",
        "    'R²': r2_cnn_lstm\n",
        "}\n",
        "\n",
        "metrics_list = [metrics_hybrid, metrics_bigru, metrics_bigru_attn, metrics_cpo_lstm, metrics_cnn_lstm]\n",
        "df_metrics = pd.DataFrame(metrics_list)\n",
        "\n",
        "df_metrics['RMSE'] = df_metrics['RMSE'].round(4)\n",
        "df_metrics['MAE'] = df_metrics['MAE'].round(4)\n",
        "df_metrics['MAPE (%)'] = df_metrics['MAPE (%)'].round(2)\n",
        "df_metrics['R²'] = df_metrics['R²'].round(4)\n",
        "\n",
        "print(\"\\nComparison of All Models on Test Set:\")\n",
        "print(df_metrics.to_string(index=False))"
      ]
    },
    {
      "cell_type": "code",
      "execution_count": null,
      "metadata": {
        "id": "LHoLkdSBtW90"
      },
      "outputs": [],
      "source": [
        "import pandas as pd\n",
        "import numpy as np\n",
        "import matplotlib.pyplot as plt\n",
        "import seaborn as sns\n",
        "import os\n",
        "import datetime\n",
        "from sklearn.preprocessing import MinMaxScaler\n",
        "\n",
        "# Assume metrics are available from prior execution\n",
        "# These are computed in the respective model evaluations, not hardcoded\n",
        "# Example: rmse, mae, mape, r2 for CPO+BiGRU+Attention; rmse_bigru, mae_bigru, etc. for others\n",
        "\n",
        "# Create metrics dictionaries\n",
        "metrics_hybrid = {\n",
        "    'Model': 'CPO+BiGRU+Attention',\n",
        "    'RMSE': rmse,\n",
        "    'MAE': mae,\n",
        "    'MAPE (%)': mape,\n",
        "    'R²': r2\n",
        "}\n",
        "\n",
        "metrics_bigru = {\n",
        "    'Model': 'BiGRU',\n",
        "    'RMSE': rmse_bigru,\n",
        "    'MAE': mae_bigru,\n",
        "    'MAPE (%)': mape_bigru,\n",
        "    'R²': r2_bigru\n",
        "}\n",
        "\n",
        "metrics_bigru_attn = {\n",
        "    'Model': 'BiGRU+Attention',\n",
        "    'RMSE': rmse_bigru_attn,\n",
        "    'MAE': mae_bigru_attn,\n",
        "    'MAPE (%)': mape_bigru_attn,\n",
        "    'R²': r2_bigru_attn\n",
        "}\n",
        "\n",
        "metrics_cpo_lstm = {\n",
        "    'Model': 'CPO+LSTM+Attention',\n",
        "    'RMSE': rmse_cpo_lstm,\n",
        "    'MAE': mae_cpo_lstm,\n",
        "    'MAPE (%)': mape_cpo_lstm,\n",
        "    'R²': r2_cpo_lstm\n",
        "}\n",
        "\n",
        "metrics_cnn_lstm = {\n",
        "    'Model': 'CNN+LSTM+Attention',\n",
        "    'RMSE': rmse_cnn_lstm,\n",
        "    'MAE': mae_cnn_lstm,\n",
        "    'MAPE (%)': mape_cnn_lstm,\n",
        "    'R²': r2_cnn_lstm\n",
        "}\n",
        "\n",
        "metrics_list = [metrics_hybrid, metrics_bigru, metrics_bigru_attn, metrics_cpo_lstm, metrics_cnn_lstm]\n",
        "df_metrics = pd.DataFrame(metrics_list)\n",
        "\n",
        "# Round metrics for display\n",
        "df_metrics['RMSE'] = df_metrics['RMSE'].round(4)\n",
        "df_metrics['MAE'] = df_metrics['MAE'].round(4)\n",
        "df_metrics['MAPE (%)'] = df_metrics['MAPE (%)'].round(2)\n",
        "df_metrics['R²'] = df_metrics['R²'].round(4)\n",
        "\n",
        "print(\"\\nComparison of All Models on Test Set:\")\n",
        "print(df_metrics.to_string(index=False))\n",
        "\n",
        "# Create directory for saving plots\n",
        "current_time = datetime.datetime.now().strftime(\"%Y%m%d_%H%M%S\")\n",
        "results_dir = f\"results_all_models_visualizations_{current_time}\"\n",
        "os.makedirs(results_dir, exist_ok=True)\n",
        "\n",
        "# Handle extreme MAPE values by log-scaling for visualization\n",
        "df_metrics_vis = df_metrics.copy()\n",
        "df_metrics_vis['MAPE (%)'] = np.log1p(df_metrics_vis['MAPE (%)']).replace(-np.inf, 0)\n",
        "\n",
        "# Normalize metrics for certain plots\n",
        "scaler = MinMaxScaler()\n",
        "metrics_normalized = scaler.fit_transform(df_metrics_vis[['RMSE', 'MAE', 'MAPE (%)', 'R²']])\n",
        "df_normalized = pd.DataFrame(metrics_normalized, columns=['RMSE', 'MAE', 'MAPE (%)', 'R²'])\n",
        "df_normalized['Model'] = df_metrics['Model']\n",
        "\n",
        "# Set seaborn style\n",
        "sns.set(style=\"whitegrid\")\n",
        "\n",
        "# 1. Individual Bar Plots for Each Metric\n",
        "metrics = ['RMSE', 'MAE', 'MAPE (%)', 'R²']\n",
        "for metric in metrics:\n",
        "    plt.figure(figsize=(10, 6))\n",
        "    sns.barplot(x='Model', y=metric, data=df_metrics_vis)\n",
        "    plt.title(f'Comparison of {metric} Across Models')\n",
        "    plt.xticks(rotation=45)\n",
        "    plt.tight_layout()\n",
        "    plt.savefig(f\"{results_dir}/{metric}_bar_plot.png\")\n",
        "    plt.show()\n",
        "    plt.close()\n",
        "\n",
        "# 2. Grouped Bar Plot for All Metrics\n",
        "df_melted = df_normalized.melt(id_vars='Model', value_vars=['RMSE', 'MAE', 'MAPE (%)', 'R²'],\n",
        "                              var_name='Metric', value_name='Normalized Value')\n",
        "plt.figure(figsize=(12, 8))\n",
        "sns.barplot(x='Model', y='Normalized Value', hue='Metric', data=df_melted)\n",
        "plt.title('Normalized Metrics Comparison Across Models')\n",
        "plt.xticks(rotation=45)\n",
        "plt.legend(title='Metric')\n",
        "plt.tight_layout()\n",
        "plt.savefig(f\"{results_dir}/grouped_bar_plot.png\")\n",
        "plt.show()\n",
        "plt.close()\n",
        "\n",
        "# 3. Box Plot for Normalized Metrics\n",
        "plt.figure(figsize=(10, 6))\n",
        "sns.boxplot(x='Metric', y='Normalized Value', data=df_melted)\n",
        "plt.title('Distribution of Normalized Metrics Across Models')\n",
        "plt.tight_layout()\n",
        "plt.savefig(f\"{results_dir}/box_plot.png\")\n",
        "plt.show()\n",
        "plt.close()\n",
        "\n",
        "# 4. Heatmap for Metrics\n",
        "plt.figure(figsize=(10, 6))\n",
        "sns.heatmap(df_metrics_vis[['RMSE', 'MAE', 'MAPE (%)', 'R²']], annot=True, fmt='.4f', cmap='YlGnBu',\n",
        "            xticklabels=metrics, yticklabels=df_metrics_vis['Model'])\n",
        "plt.title('Heatmap of Metrics Across Models')\n",
        "plt.tight_layout()\n",
        "plt.savefig(f\"{results_dir}/heatmap.png\")\n",
        "plt.show()\n",
        "plt.close()\n",
        "\n",
        "# 5. Radar Plot for Metrics\n",
        "labels = ['RMSE', 'MAE', 'MAPE (%)', 'R²']\n",
        "num_vars = len(labels)\n",
        "angles = np.linspace(0, 2 * np.pi, num_vars, endpoint=False).tolist()\n",
        "angles += angles[:1]\n",
        "\n",
        "fig, ax = plt.subplots(figsize=(8, 8), subplot_kw=dict(polar=True))\n",
        "for i, model in enumerate(df_normalized['Model']):\n",
        "    values = df_normalized[labels].iloc[i].values\n",
        "    values = np.concatenate((values, [values[0]]))\n",
        "    ax.plot(angles, values, linewidth=2, label=model)\n",
        "    ax.fill(angles, values, alpha=0.25)\n",
        "ax.set_yticklabels([])\n",
        "ax.set_xticks(angles[:-1])\n",
        "ax.set_xticklabels(labels)\n",
        "plt.title('Radar Plot of Metrics Across Models')\n",
        "plt.legend(loc='upper right', bbox_to_anchor=(1.3, 1.1))\n",
        "plt.tight_layout()\n",
        "plt.savefig(f\"{results_dir}/radar_plot.png\")\n",
        "plt.show()\n",
        "plt.close()\n",
        "\n",
        "# 6. Line Plot for Metrics\n",
        "plt.figure(figsize=(12, 6))\n",
        "for metric in metrics:\n",
        "    plt.plot(df_metrics_vis['Model'], df_metrics_vis[metric], marker='o', label=metric)\n",
        "plt.title('Metrics Trends Across Models')\n",
        "plt.xticks(rotation=45)\n",
        "plt.xlabel('Model')\n",
        "plt.ylabel('Value')\n",
        "plt.legend(title='Metric')\n",
        "plt.grid(True)\n",
        "plt.tight_layout()\n",
        "plt.savefig(f\"{results_dir}/line_plot.png\")\n",
        "plt.show()\n",
        "plt.close()\n",
        "\n",
        "# 7. Pair Plot for Metrics\n",
        "sns.pairplot(df_metrics_vis[['RMSE', 'MAE', 'MAPE (%)', 'R²']], diag_kind='hist')\n",
        "plt.suptitle('Pair Plot of Metrics Across Models', y=1.02)\n",
        "plt.tight_layout()\n",
        "plt.savefig(f\"{results_dir}/pair_plot.png\")\n",
        "plt.show()\n",
        "plt.close()\n",
        "\n",
        "# 8. Violin Plot for Normalized Metrics\n",
        "plt.figure(figsize=(10, 6))\n",
        "sns.violinplot(x='Metric', y='Normalized Value', data=df_melted)\n",
        "plt.title('Violin Plot of Normalized Metrics Across Models')\n",
        "plt.tight_layout()\n",
        "plt.savefig(f\"{results_dir}/violin_plot.png\")\n",
        "plt.show()\n",
        "plt.close()\n",
        "\n",
        "print(f\"All models visualizations saved in {results_dir}/\")\n"
      ]
    }
  ],
  "metadata": {
    "accelerator": "GPU",
    "colab": {
      "gpuType": "T4",
      "provenance": []
    },
    "kernelspec": {
      "display_name": "Python 3",
      "name": "python3"
    },
    "language_info": {
      "name": "python"
    }
  },
  "nbformat": 4,
  "nbformat_minor": 0
}
